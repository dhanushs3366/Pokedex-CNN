{
 "cells": [
  {
   "cell_type": "code",
   "outputs": [],
   "source": [
    "import os\n",
    "\n",
    "import numpy as np\n",
    "import pandas as pd\n",
    "import matplotlib.pyplot as plt\n",
    "import tensorflow as tf\n",
    "from PIL import Image"
   ],
   "metadata": {
    "collapsed": false,
    "ExecuteTime": {
     "end_time": "2024-03-23T05:32:38.107548Z",
     "start_time": "2024-03-23T05:32:38.096985Z"
    }
   },
   "id": "a5062e48ff4358df",
   "execution_count": 2
  },
  {
   "cell_type": "code",
   "outputs": [],
   "source": [],
   "metadata": {
    "collapsed": false,
    "ExecuteTime": {
     "end_time": "2024-03-22T14:01:44.829683Z",
     "start_time": "2024-03-22T14:01:44.816577Z"
    }
   },
   "id": "dce751a875eeec4",
   "execution_count": 4
  },
  {
   "cell_type": "code",
   "outputs": [],
   "source": [
    "test_dir = \"../dataset-v4/test\"\n",
    "train_dir = \"../dataset-v4/train\"\n",
    "valid_dir = \"../dataset-v4/valid\"\n",
    "test_csv = \"../dataset-v4/test/_annotations.csv\"\n",
    "train_csv = \"../dataset-v4/train/_annotations.csv\"\n",
    "valid_csv = \"../dataset-v4/valid/_annotations.csv\"\n",
    "dataset_dirs = [test_dir, train_dir, valid_dir]\n",
    "csv_dirs = [test_csv, train_csv, valid_csv]\n",
    "csv_filename = \"_annotations.csv\"\n",
    "\n",
    "dataset_dir = \"../PokemonData\"\n",
    "ref_csv = \"../csv/pokemon-v3.csv\"\n",
    "ref_csv = \"../csv/FirstGenPokemon.csv\"\n",
    "\n",
    "neglected_pokemons = [\"MrMime\"]"
   ],
   "metadata": {
    "collapsed": false,
    "ExecuteTime": {
     "end_time": "2024-03-23T06:08:38.150946Z",
     "start_time": "2024-03-23T06:08:38.135919Z"
    }
   },
   "id": "6950e9ad1a6d373f",
   "execution_count": 4
  },
  {
   "cell_type": "code",
   "outputs": [
    {
     "name": "stdout",
     "output_type": "stream",
     "text": [
      "150\n"
     ]
    }
   ],
   "source": [
    "\n",
    "input_shape = (64, 64, 3)\n",
    "output_shape=len(os.listdir(dataset_dir))\n",
    "print(output_shape)\n",
    "batch_size = 16\n",
    "repeat_factor = 2\n"
   ],
   "metadata": {
    "collapsed": false,
    "ExecuteTime": {
     "end_time": "2024-03-23T06:41:46.318238Z",
     "start_time": "2024-03-23T06:41:46.311740Z"
    }
   },
   "id": "be58caba88b4dc8b",
   "execution_count": 49
  },
  {
   "cell_type": "code",
   "outputs": [],
   "source": [],
   "metadata": {
    "collapsed": false,
    "ExecuteTime": {
     "end_time": "2024-03-23T06:36:43.767382Z",
     "start_time": "2024-03-23T06:36:43.764924Z"
    }
   },
   "id": "130dc09f62ece134",
   "execution_count": 35
  },
  {
   "cell_type": "code",
   "outputs": [],
   "source": [
    "AUTOTUNE = tf.data.experimental.AUTOTUNE\n",
    "\n",
    "\n",
    "class PokemonType(tf.data.Dataset):\n",
    "    @staticmethod\n",
    "    def find_pokemon_type(pokemon_filename, pokemon_csv, pokemon_ref_csv):\n",
    "        pokemon_df = pd.read_csv(pokemon_csv)\n",
    "        ref_df = pd.read_csv(pokemon_ref_csv)\n",
    "        pokemon = pokemon_df[pokemon_df['filename'] == pokemon_filename]\n",
    "        if pokemon.empty: return None\n",
    "        pokemon_name = pokemon.iloc[0][\"class\"]\n",
    "        if pokemon_name in neglected_pokemons:\n",
    "            return None\n",
    "        pokemon = ref_df[ref_df['Name'] == pokemon_name]\n",
    "        type1 = pokemon.iloc[0][\"Type1\"]\n",
    "        type2 = None\n",
    "        if not pokemon.iloc[0][\"Type2\"] == 'None':\n",
    "            type2 = pokemon.iloc[0][\"Type2\"]\n",
    "\n",
    "        return type1, type2\n",
    "\n",
    "    @staticmethod\n",
    "    def one_hot_encode(pokemon_labels, all_labels):\n",
    "        label_map = {pokemon_type: one_hot_index for one_hot_index, pokemon_type in\n",
    "                     enumerate(all_labels)}  #enum(all_labels)->(0,type1),(1,type2),...\n",
    "        one_hot_labels = np.zeros((len(pokemon_labels), len(all_labels)))\n",
    "        for index, pokemon_type in enumerate(pokemon_labels):\n",
    "            one_hot_index = label_map[pokemon_type]\n",
    "            one_hot_labels[index, one_hot_index] = 1\n",
    "        one_hot_labels = np.sum(one_hot_labels, axis=0)\n",
    "        return one_hot_labels  #(1,0,1,0,0,0,....)\n",
    "\n",
    "    @staticmethod\n",
    "    def get_all_labels(pokemon_csv, ref_csv):\n",
    "        ref_df = pd.read_csv(ref_csv)\n",
    "        pokemon_df = pd.read_csv(pokemon_csv)\n",
    "        df = pd.merge(pokemon_df, ref_df, left_on=\"class\", right_on=\"Name\", how=\"inner\")\n",
    "        pokemon_names = df[\"class\"].tolist()\n",
    "        all_labels = [\"dragon\"]\n",
    "        for pokemon_name in pokemon_names:\n",
    "            pokemon = ref_df[ref_df['Name'] == pokemon_name]\n",
    "            if not pokemon.empty:\n",
    "                type1 = pokemon.iloc[0][\"Type1\"]\n",
    "                type2 = pokemon.iloc[0][\"Type2\"]\n",
    "                all_labels.append(type1)\n",
    "                if not type2 == \"None\":\n",
    "                    all_labels.append(type2)\n",
    "\n",
    "        all_labels = list(set(all_labels) - {np.NaN})\n",
    "        return all_labels\n",
    "\n",
    "    @staticmethod\n",
    "    def super_generator(dataset_dirs, ref_csv, input_shape=(256, 256, 3)):\n",
    "        def generator():\n",
    "            all_labels = PokemonType.get_all_labels(f\"{dataset_dirs[0]}/{csv_filename}\", ref_csv)\n",
    "            for dataset_dir in dataset_dirs:\n",
    "                pokemon_imgs = os.listdir(dataset_dir)\n",
    "                for pokemon_img in pokemon_imgs:\n",
    "                    if not pokemon_img.lower().endswith((\".jpg\", \".png\", \".jpeg\")):\n",
    "                        continue\n",
    "                    pokemon = Image.open(os.path.join(dataset_dir, pokemon_img)).resize(\n",
    "                        (input_shape[0], input_shape[1]))\n",
    "                    pokemon_tensor = tf.convert_to_tensor(pokemon)\n",
    "                    pokemon_tensor = tf.cast(pokemon_tensor, dtype=tf.float32)\n",
    "                    pokemon_tensor = pokemon_tensor / 255.0\n",
    "                    pokemon_types = PokemonType.find_pokemon_type(pokemon_img, f\"{dataset_dir}/{csv_filename}\", ref_csv)\n",
    "                    if pokemon_types is None:\n",
    "                        continue\n",
    "                    pokemon_labels = [pokemon_types[0]]\n",
    "                    if not pokemon_types[-1] is np.NaN:\n",
    "                        pokemon_labels.append(pokemon_types[-1])\n",
    "                    pokemon_labels = PokemonType.one_hot_encode(pokemon_labels, all_labels)\n",
    "\n",
    "                    yield pokemon_tensor, pokemon_labels\n",
    "\n",
    "        return generator\n",
    "\n",
    "    @staticmethod\n",
    "    def __new__(cls, dataset_dirs, ref_csv):\n",
    "        return tf.data.Dataset.from_generator(\n",
    "            cls.super_generator(dataset_dirs, ref_csv, input_shape),\n",
    "            output_signature=(\n",
    "                tf.TensorSpec(shape=input_shape, dtype=tf.float32),\n",
    "                tf.TensorSpec(shape=(15,), dtype=tf.float32),\n",
    "            )\n",
    "        ).prefetch(AUTOTUNE)\n",
    "\n",
    "\n"
   ],
   "metadata": {
    "collapsed": false,
    "ExecuteTime": {
     "end_time": "2024-03-23T06:36:43.998587Z",
     "start_time": "2024-03-23T06:36:43.978317Z"
    }
   },
   "id": "b6e8b78b717ca913",
   "execution_count": 36
  },
  {
   "cell_type": "code",
   "outputs": [],
   "source": [
    "AUTOTUNE = tf.data.experimental.AUTOTUNE\n",
    "\n",
    "class PokedexDataset(tf.data.Dataset):\n",
    "    @staticmethod\n",
    "    def super_generator( dataset_dir, input_shape):\n",
    "        def generator():\n",
    "            pokemon_names = os.listdir(dataset_dir)\n",
    "            pokemon_labels = {pokemon: label for label, pokemon in enumerate(pokemon_names)}\n",
    "            for pokemon_name in pokemon_names:\n",
    "                pokemon_name_path = os.path.join(dataset_dir, pokemon_name)\n",
    "                pokemons = os.listdir(pokemon_name_path)\n",
    "                pokemon_label = pokemon_labels[pokemon_name]\n",
    "                for pokemon in pokemons:\n",
    "                    pokemon_path = os.path.join(pokemon_name_path, pokemon)\n",
    "                    if not pokemon.lower().endswith((\".jpg\", \".jpeg\", \".png\")):\n",
    "                        continue\n",
    "                    pokemon_img = Image.open(pokemon_path).resize((input_shape[0], input_shape[1]))\n",
    "                    if pokemon_img.mode != \"RGB\":\n",
    "                        pokemon_img = pokemon_img.convert(\"RGB\")\n",
    "                    pokemon_tensor = tf.convert_to_tensor(pokemon_img)\n",
    "                    pokemon_tensor = tf.cast(pokemon_tensor, dtype=tf.float32)\n",
    "                    pokemon_tensor = pokemon_tensor / 255.0\n",
    "            \n",
    "                    yield pokemon_tensor, pokemon_label\n",
    "        return generator\n",
    "\n",
    "\n",
    "    @staticmethod\n",
    "    def __new__(cls, dataset_dir, input_shape=(64, 64, 3)):\n",
    "        return tf.data.Dataset.from_generator(\n",
    "            cls.super_generator(dataset_dir=dataset_dir,input_shape=input_shape),\n",
    "            output_signature=(\n",
    "                tf.TensorSpec(shape=input_shape, dtype=tf.float32),\n",
    "                tf.TensorSpec(shape=(), dtype=tf.int16)\n",
    "            )\n",
    "        ).prefetch(AUTOTUNE)"
   ],
   "metadata": {
    "collapsed": false,
    "ExecuteTime": {
     "end_time": "2024-03-23T06:36:44.354023Z",
     "start_time": "2024-03-23T06:36:44.337797Z"
    }
   },
   "id": "8045536412e40c9e",
   "execution_count": 37
  },
  {
   "cell_type": "code",
   "outputs": [],
   "source": [],
   "metadata": {
    "collapsed": false,
    "ExecuteTime": {
     "end_time": "2024-03-23T06:36:45.255230Z",
     "start_time": "2024-03-23T06:36:45.240631Z"
    }
   },
   "id": "1c657814c0b28603",
   "execution_count": 37
  },
  {
   "cell_type": "code",
   "outputs": [],
   "source": [
    "dataset = PokedexDataset(dataset_dir=dataset_dir,input_shape=input_shape)\n",
    "dataset=dataset.batch(batch_size=batch_size,num_parallel_calls=AUTOTUNE).repeat(repeat_factor)"
   ],
   "metadata": {
    "collapsed": false,
    "ExecuteTime": {
     "end_time": "2024-03-23T06:44:28.441829Z",
     "start_time": "2024-03-23T06:44:28.412161Z"
    }
   },
   "id": "f82d58e11845f497",
   "execution_count": 56
  },
  {
   "cell_type": "code",
   "outputs": [],
   "source": [
    "dataset_size=0\n",
    "for _ in dataset.as_numpy_iterator():\n",
    "    dataset_size+=1"
   ],
   "metadata": {
    "collapsed": false,
    "ExecuteTime": {
     "end_time": "2024-03-23T06:45:22.855551Z",
     "start_time": "2024-03-23T06:44:29.072981Z"
    }
   },
   "id": "efd236026763a83",
   "execution_count": 57
  },
  {
   "cell_type": "code",
   "outputs": [
    {
     "name": "stdout",
     "output_type": "stream",
     "text": [
      "Dataset size: 854\n"
     ]
    }
   ],
   "source": [
    "print(f\"Dataset size: {dataset_size}\")\n",
    "dataset=dataset.shuffle(buffer_size=dataset_size)"
   ],
   "metadata": {
    "collapsed": false,
    "ExecuteTime": {
     "end_time": "2024-03-23T06:45:24.532494Z",
     "start_time": "2024-03-23T06:45:24.527751Z"
    }
   },
   "id": "c65d98a8ae766bee",
   "execution_count": 58
  },
  {
   "cell_type": "code",
   "outputs": [],
   "source": [
    "train_size=0.8\n",
    "train_size=tf.math.round(train_size*dataset_size).numpy()\n",
    "test_size=dataset_size-train_size\n",
    "train_ds=dataset.take(train_size)\n",
    "test_ds=dataset.skip(test_size)\n"
   ],
   "metadata": {
    "collapsed": false,
    "ExecuteTime": {
     "end_time": "2024-03-23T06:45:26.365312Z",
     "start_time": "2024-03-23T06:45:26.360035Z"
    }
   },
   "id": "fd4c681cbfefbe79",
   "execution_count": 59
  },
  {
   "cell_type": "code",
   "outputs": [
    {
     "name": "stdout",
     "output_type": "stream",
     "text": [
      "10.0 42.0\n"
     ]
    }
   ],
   "source": [
    "steps_per_epoch=train_steps=train_size//batch_size\n",
    "test_steps=test_size//batch_size\n",
    "print(test_steps,train_steps)"
   ],
   "metadata": {
    "collapsed": false,
    "ExecuteTime": {
     "end_time": "2024-03-23T06:45:57.248968Z",
     "start_time": "2024-03-23T06:45:57.232451Z"
    }
   },
   "id": "c3f6384341d4bc9d",
   "execution_count": 61
  },
  {
   "cell_type": "code",
   "outputs": [],
   "source": [
    "class DatasetSize(tf.data.Dataset):\n",
    "    @staticmethod\n",
    "    def super_generator(dataset_dirs):\n",
    "        def generator():\n",
    "            for dataset_dir in dataset_dirs:\n",
    "                pokemon_imgs = os.listdir(dataset_dir)\n",
    "                for pokemon_img in pokemon_imgs:\n",
    "                    if not pokemon_img.lower().endswith((\".png\", \".jpg\", \".jpeg\")):\n",
    "                        continue\n",
    "                    pokemon_df = pd.read_csv(f\"{dataset_dir}/{csv_filename}\")\n",
    "                    pokemon = pokemon_df[pokemon_df[\"filename\"] == pokemon_img]\n",
    "                    if pokemon.empty: continue\n",
    "                    if pokemon.iloc[0][\"class\"] in neglected_pokemons:\n",
    "                        continue\n",
    "                    yield tf.constant([1], tf.float32), tf.constant([1], tf.float32)\n",
    "\n",
    "        return generator\n",
    "\n",
    "    @staticmethod\n",
    "    def __new__(cls, dataset_dirs):\n",
    "        return tf.data.Dataset.from_generator(\n",
    "            cls.super_generator(dataset_dirs),\n",
    "            output_signature=(\n",
    "                tf.TensorSpec(shape=(None,), dtype=tf.float32),\n",
    "                tf.TensorSpec(shape=(None,), dtype=tf.float32)\n",
    "\n",
    "            )\n",
    "        )"
   ],
   "metadata": {
    "collapsed": false,
    "ExecuteTime": {
     "end_time": "2024-03-22T14:07:46.782336Z",
     "start_time": "2024-03-22T14:07:46.766427Z"
    }
   },
   "id": "37f4740252f27832",
   "execution_count": 21
  },
  {
   "cell_type": "code",
   "outputs": [],
   "source": [],
   "metadata": {
    "collapsed": false
   },
   "id": "f2f33f98995965f8"
  },
  {
   "cell_type": "code",
   "outputs": [],
   "source": [
    "# dataset = PokemonType(dataset_dirs, ref_csv)\n",
    "# dummy_dataset = DatasetSize(dataset_dirs)\n",
    "# \n",
    "# dataset = dataset.batch(batch_size, num_parallel_calls=AUTOTUNE).repeat(repeat_factor)\n",
    "# dummy_dataset = dummy_dataset.batch(batch_size, num_parallel_calls=AUTOTUNE).repeat(repeat_factor)"
   ],
   "metadata": {
    "collapsed": false,
    "ExecuteTime": {
     "end_time": "2024-03-22T14:07:47.122559Z",
     "start_time": "2024-03-22T14:07:47.052092Z"
    }
   },
   "id": "791c9dc8223f42d8",
   "execution_count": 22
  },
  {
   "cell_type": "code",
   "outputs": [],
   "source": [
    "# dataset_size = 0\n",
    "# for _ in dummy_dataset.as_numpy_iterator():\n",
    "#     dataset_size += 1\n"
   ],
   "metadata": {
    "collapsed": false,
    "ExecuteTime": {
     "end_time": "2024-03-22T14:07:55.092905Z",
     "start_time": "2024-03-22T14:07:47.331165Z"
    }
   },
   "id": "9eb4e4ed4e808c37",
   "execution_count": 23
  },
  {
   "cell_type": "code",
   "outputs": [],
   "source": [
    "# o=0\n",
    "# for _ in dataset.as_numpy_iterator():\n",
    "#    o+=1 "
   ],
   "metadata": {
    "collapsed": false,
    "ExecuteTime": {
     "end_time": "2024-03-22T14:07:55.108940Z",
     "start_time": "2024-03-22T14:07:55.095416Z"
    }
   },
   "id": "84160d99a591e00a",
   "execution_count": 24
  },
  {
   "cell_type": "code",
   "outputs": [],
   "source": [],
   "metadata": {
    "collapsed": false,
    "ExecuteTime": {
     "end_time": "2024-03-22T14:18:57.358326Z",
     "start_time": "2024-03-22T14:18:57.344983Z"
    }
   },
   "id": "8e82a3bbd12ee92e",
   "execution_count": 25
  },
  {
   "cell_type": "code",
   "outputs": [
    {
     "name": "stdout",
     "output_type": "stream",
     "text": [
      "The dataset size: 854\n"
     ]
    },
    {
     "data": {
      "text/plain": "42.0"
     },
     "execution_count": 62,
     "metadata": {},
     "output_type": "execute_result"
    }
   ],
   "source": [
    "print(f\"The dataset size: {dataset_size}\")\n",
    "steps_per_epoch"
   ],
   "metadata": {
    "collapsed": false,
    "ExecuteTime": {
     "end_time": "2024-03-23T06:46:03.601564Z",
     "start_time": "2024-03-23T06:46:03.586373Z"
    }
   },
   "id": "3e8df102d8c9feab",
   "execution_count": 62
  },
  {
   "cell_type": "code",
   "outputs": [],
   "source": [
    "def create_type_model(input_shape, output_shape):\n",
    "    augmented_model = tf.keras.Sequential([\n",
    "        tf.keras.layers.RandomFlip(\"horizontal_and_vertical\"),\n",
    "        tf.keras.layers.RandomRotation(0.20),\n",
    "    ])\n",
    "\n",
    "    resnet_model = tf.keras.applications.ResNet50(include_top=False, weights='imagenet',pooling=\"avg\")\n",
    "    for layer in resnet_model.layers:\n",
    "        layer.trainable = True\n",
    "\n",
    "    inputs = tf.keras.layers.Input(input_shape)\n",
    "    augment_1 = augmented_model(inputs)\n",
    "    resnet_layers = resnet_model(augment_1)\n",
    "    flatten = tf.keras.layers.Flatten()(resnet_layers)\n",
    "    dense_1 = tf.keras.layers.Dense(512, activation='relu')(flatten)\n",
    "    outputs = tf.keras.layers.Dense(output_shape, activation='softmax')(dense_1)\n",
    "    outputs=tf.keras.layers.Dense(1,activation=\"relu\")(outputs)\n",
    "    model = tf.keras.Model(inputs=inputs, outputs=outputs)\n",
    "    return model\n",
    "\n",
    "\n"
   ],
   "metadata": {
    "collapsed": false,
    "ExecuteTime": {
     "end_time": "2024-03-23T07:10:33.994769Z",
     "start_time": "2024-03-23T07:10:33.983477Z"
    }
   },
   "id": "ce9dd89c92d0e614",
   "execution_count": 83
  },
  {
   "cell_type": "code",
   "outputs": [],
   "source": [
    "class myCallback(tf.keras.callbacks.Callback):\n",
    "    def on_epoch_end(self, epoch, logs={}):\n",
    "        if logs.get('accuracy') > 0.99:\n",
    "            print(\n",
    "                f'Epoch {epoch + 1} completed. Training accuracy {logs.get(\"accuracy\")} reached. Stopping the training')\n",
    "            self.model.stop_training = True"
   ],
   "metadata": {
    "collapsed": false,
    "ExecuteTime": {
     "end_time": "2024-03-23T07:10:34.401719Z",
     "start_time": "2024-03-23T07:10:34.391237Z"
    }
   },
   "id": "b7a5fbdc431dcb63",
   "execution_count": 84
  },
  {
   "cell_type": "code",
   "outputs": [],
   "source": [
    "all_labels = PokemonType.get_all_labels(f\"{dataset_dirs[0]}/{csv_filename}\", ref_csv)\n",
    "model = create_type_model(input_shape, output_shape)\n"
   ],
   "metadata": {
    "collapsed": false,
    "ExecuteTime": {
     "end_time": "2024-03-23T07:10:36.805140Z",
     "start_time": "2024-03-23T07:10:34.717060Z"
    }
   },
   "id": "5010628d3daef360",
   "execution_count": 85
  },
  {
   "cell_type": "code",
   "outputs": [],
   "source": [
    "my_callback = myCallback()\n",
    "model.compile(optimizer='adam', loss=tf.keras.losses.BinaryCrossentropy(), metrics=[\"accuracy\"])"
   ],
   "metadata": {
    "collapsed": false,
    "ExecuteTime": {
     "end_time": "2024-03-23T07:10:38.085888Z",
     "start_time": "2024-03-23T07:10:38.063874Z"
    }
   },
   "id": "433fd4b47f61bc48",
   "execution_count": 86
  },
  {
   "cell_type": "code",
   "outputs": [
    {
     "name": "stdout",
     "output_type": "stream",
     "text": [
      "Epoch 1/20\n",
      "42/42 [==============================] - 142s 2s/step - loss: 176.3655 - accuracy: 0.0000e+00 - val_loss: 129.2690 - val_accuracy: 0.0000e+00\n",
      "Epoch 2/20\n",
      "42/42 [==============================] - 72s 2s/step - loss: 85.4714 - accuracy: 0.0000e+00 - val_loss: 53.2860 - val_accuracy: 0.0000e+00\n",
      "Epoch 3/20\n",
      "42/42 [==============================] - 75s 2s/step - loss: 51.4010 - accuracy: 0.0238 - val_loss: 42.1444 - val_accuracy: 0.0000e+00\n",
      "Epoch 4/20\n",
      "42/42 [==============================] - 82s 2s/step - loss: 30.3148 - accuracy: 0.0000e+00 - val_loss: 11.3126 - val_accuracy: 0.0000e+00\n",
      "Epoch 5/20\n",
      "42/42 [==============================] - 77s 2s/step - loss: 5.8752 - accuracy: 0.0000e+00 - val_loss: -2.5074 - val_accuracy: 0.0000e+00\n",
      "Epoch 6/20\n",
      "42/42 [==============================] - 78s 2s/step - loss: -13.1405 - accuracy: 0.0000e+00 - val_loss: -30.0910 - val_accuracy: 0.0000e+00\n",
      "Epoch 7/20\n",
      "42/42 [==============================] - 76s 2s/step - loss: -31.0155 - accuracy: 0.0000e+00 - val_loss: -38.0325 - val_accuracy: 0.0000e+00\n",
      "Epoch 8/20\n",
      "42/42 [==============================] - 76s 2s/step - loss: -60.1959 - accuracy: 0.0000e+00 - val_loss: -70.0291 - val_accuracy: 0.0000e+00\n",
      "Epoch 9/20\n",
      "42/42 [==============================] - 77s 2s/step - loss: -72.6674 - accuracy: 0.0238 - val_loss: -76.2792 - val_accuracy: 0.0000e+00\n",
      "Epoch 10/20\n",
      "42/42 [==============================] - ETA: 0s - loss: -125.3902 - accuracy: 0.0432"
     ]
    },
    {
     "ename": "KeyboardInterrupt",
     "evalue": "",
     "output_type": "error",
     "traceback": [
      "\u001B[1;31m---------------------------------------------------------------------------\u001B[0m",
      "\u001B[1;31mKeyboardInterrupt\u001B[0m                         Traceback (most recent call last)",
      "Cell \u001B[1;32mIn[87], line 2\u001B[0m\n\u001B[0;32m      1\u001B[0m \u001B[38;5;124;03m'''Training the model'''\u001B[39;00m\n\u001B[1;32m----> 2\u001B[0m history \u001B[38;5;241m=\u001B[39m \u001B[43mmodel\u001B[49m\u001B[38;5;241;43m.\u001B[39;49m\u001B[43mfit\u001B[49m\u001B[43m(\u001B[49m\u001B[43mtrain_ds\u001B[49m\u001B[43m,\u001B[49m\u001B[43m \u001B[49m\u001B[43mepochs\u001B[49m\u001B[38;5;241;43m=\u001B[39;49m\u001B[38;5;241;43m20\u001B[39;49m\u001B[43m,\u001B[49m\u001B[43mvalidation_data\u001B[49m\u001B[38;5;241;43m=\u001B[39;49m\u001B[43mtest_ds\u001B[49m\u001B[43m,\u001B[49m\u001B[43m \u001B[49m\u001B[43mvalidation_steps\u001B[49m\u001B[38;5;241;43m=\u001B[39;49m\u001B[43mtest_steps\u001B[49m\u001B[43m,\u001B[49m\u001B[43mcallbacks\u001B[49m\u001B[38;5;241;43m=\u001B[39;49m\u001B[43m[\u001B[49m\u001B[43mmy_callback\u001B[49m\u001B[43m]\u001B[49m\u001B[43m,\u001B[49m\u001B[43m \u001B[49m\u001B[43mbatch_size\u001B[49m\u001B[38;5;241;43m=\u001B[39;49m\u001B[43mbatch_size\u001B[49m\u001B[43m,\u001B[49m\n\u001B[0;32m      3\u001B[0m \u001B[43m                    \u001B[49m\u001B[43msteps_per_epoch\u001B[49m\u001B[38;5;241;43m=\u001B[39;49m\u001B[43msteps_per_epoch\u001B[49m\u001B[43m)\u001B[49m\n",
      "File \u001B[1;32mD:\\UNIVERSITY_WORKS\\Pokedex-CNN\\.venv\\lib\\site-packages\\keras\\src\\utils\\traceback_utils.py:65\u001B[0m, in \u001B[0;36mfilter_traceback.<locals>.error_handler\u001B[1;34m(*args, **kwargs)\u001B[0m\n\u001B[0;32m     63\u001B[0m filtered_tb \u001B[38;5;241m=\u001B[39m \u001B[38;5;28;01mNone\u001B[39;00m\n\u001B[0;32m     64\u001B[0m \u001B[38;5;28;01mtry\u001B[39;00m:\n\u001B[1;32m---> 65\u001B[0m     \u001B[38;5;28;01mreturn\u001B[39;00m fn(\u001B[38;5;241m*\u001B[39margs, \u001B[38;5;241m*\u001B[39m\u001B[38;5;241m*\u001B[39mkwargs)\n\u001B[0;32m     66\u001B[0m \u001B[38;5;28;01mexcept\u001B[39;00m \u001B[38;5;167;01mException\u001B[39;00m \u001B[38;5;28;01mas\u001B[39;00m e:\n\u001B[0;32m     67\u001B[0m     filtered_tb \u001B[38;5;241m=\u001B[39m _process_traceback_frames(e\u001B[38;5;241m.\u001B[39m__traceback__)\n",
      "File \u001B[1;32mD:\\UNIVERSITY_WORKS\\Pokedex-CNN\\.venv\\lib\\site-packages\\keras\\src\\engine\\training.py:1791\u001B[0m, in \u001B[0;36mModel.fit\u001B[1;34m(self, x, y, batch_size, epochs, verbose, callbacks, validation_split, validation_data, shuffle, class_weight, sample_weight, initial_epoch, steps_per_epoch, validation_steps, validation_batch_size, validation_freq, max_queue_size, workers, use_multiprocessing)\u001B[0m\n\u001B[0;32m   1775\u001B[0m \u001B[38;5;28;01mif\u001B[39;00m \u001B[38;5;28mgetattr\u001B[39m(\u001B[38;5;28mself\u001B[39m, \u001B[38;5;124m\"\u001B[39m\u001B[38;5;124m_eval_data_handler\u001B[39m\u001B[38;5;124m\"\u001B[39m, \u001B[38;5;28;01mNone\u001B[39;00m) \u001B[38;5;129;01mis\u001B[39;00m \u001B[38;5;28;01mNone\u001B[39;00m:\n\u001B[0;32m   1776\u001B[0m     \u001B[38;5;28mself\u001B[39m\u001B[38;5;241m.\u001B[39m_eval_data_handler \u001B[38;5;241m=\u001B[39m data_adapter\u001B[38;5;241m.\u001B[39mget_data_handler(\n\u001B[0;32m   1777\u001B[0m         x\u001B[38;5;241m=\u001B[39mval_x,\n\u001B[0;32m   1778\u001B[0m         y\u001B[38;5;241m=\u001B[39mval_y,\n\u001B[1;32m   (...)\u001B[0m\n\u001B[0;32m   1789\u001B[0m         pss_evaluation_shards\u001B[38;5;241m=\u001B[39m\u001B[38;5;28mself\u001B[39m\u001B[38;5;241m.\u001B[39m_pss_evaluation_shards,\n\u001B[0;32m   1790\u001B[0m     )\n\u001B[1;32m-> 1791\u001B[0m val_logs \u001B[38;5;241m=\u001B[39m \u001B[38;5;28;43mself\u001B[39;49m\u001B[38;5;241;43m.\u001B[39;49m\u001B[43mevaluate\u001B[49m\u001B[43m(\u001B[49m\n\u001B[0;32m   1792\u001B[0m \u001B[43m    \u001B[49m\u001B[43mx\u001B[49m\u001B[38;5;241;43m=\u001B[39;49m\u001B[43mval_x\u001B[49m\u001B[43m,\u001B[49m\n\u001B[0;32m   1793\u001B[0m \u001B[43m    \u001B[49m\u001B[43my\u001B[49m\u001B[38;5;241;43m=\u001B[39;49m\u001B[43mval_y\u001B[49m\u001B[43m,\u001B[49m\n\u001B[0;32m   1794\u001B[0m \u001B[43m    \u001B[49m\u001B[43msample_weight\u001B[49m\u001B[38;5;241;43m=\u001B[39;49m\u001B[43mval_sample_weight\u001B[49m\u001B[43m,\u001B[49m\n\u001B[0;32m   1795\u001B[0m \u001B[43m    \u001B[49m\u001B[43mbatch_size\u001B[49m\u001B[38;5;241;43m=\u001B[39;49m\u001B[43mvalidation_batch_size\u001B[49m\u001B[43m \u001B[49m\u001B[38;5;129;43;01mor\u001B[39;49;00m\u001B[43m \u001B[49m\u001B[43mbatch_size\u001B[49m\u001B[43m,\u001B[49m\n\u001B[0;32m   1796\u001B[0m \u001B[43m    \u001B[49m\u001B[43msteps\u001B[49m\u001B[38;5;241;43m=\u001B[39;49m\u001B[43mvalidation_steps\u001B[49m\u001B[43m,\u001B[49m\n\u001B[0;32m   1797\u001B[0m \u001B[43m    \u001B[49m\u001B[43mcallbacks\u001B[49m\u001B[38;5;241;43m=\u001B[39;49m\u001B[43mcallbacks\u001B[49m\u001B[43m,\u001B[49m\n\u001B[0;32m   1798\u001B[0m \u001B[43m    \u001B[49m\u001B[43mmax_queue_size\u001B[49m\u001B[38;5;241;43m=\u001B[39;49m\u001B[43mmax_queue_size\u001B[49m\u001B[43m,\u001B[49m\n\u001B[0;32m   1799\u001B[0m \u001B[43m    \u001B[49m\u001B[43mworkers\u001B[49m\u001B[38;5;241;43m=\u001B[39;49m\u001B[43mworkers\u001B[49m\u001B[43m,\u001B[49m\n\u001B[0;32m   1800\u001B[0m \u001B[43m    \u001B[49m\u001B[43muse_multiprocessing\u001B[49m\u001B[38;5;241;43m=\u001B[39;49m\u001B[43muse_multiprocessing\u001B[49m\u001B[43m,\u001B[49m\n\u001B[0;32m   1801\u001B[0m \u001B[43m    \u001B[49m\u001B[43mreturn_dict\u001B[49m\u001B[38;5;241;43m=\u001B[39;49m\u001B[38;5;28;43;01mTrue\u001B[39;49;00m\u001B[43m,\u001B[49m\n\u001B[0;32m   1802\u001B[0m \u001B[43m    \u001B[49m\u001B[43m_use_cached_eval_dataset\u001B[49m\u001B[38;5;241;43m=\u001B[39;49m\u001B[38;5;28;43;01mTrue\u001B[39;49;00m\u001B[43m,\u001B[49m\n\u001B[0;32m   1803\u001B[0m \u001B[43m\u001B[49m\u001B[43m)\u001B[49m\n\u001B[0;32m   1804\u001B[0m val_logs \u001B[38;5;241m=\u001B[39m {\n\u001B[0;32m   1805\u001B[0m     \u001B[38;5;124m\"\u001B[39m\u001B[38;5;124mval_\u001B[39m\u001B[38;5;124m\"\u001B[39m \u001B[38;5;241m+\u001B[39m name: val \u001B[38;5;28;01mfor\u001B[39;00m name, val \u001B[38;5;129;01min\u001B[39;00m val_logs\u001B[38;5;241m.\u001B[39mitems()\n\u001B[0;32m   1806\u001B[0m }\n\u001B[0;32m   1807\u001B[0m epoch_logs\u001B[38;5;241m.\u001B[39mupdate(val_logs)\n",
      "File \u001B[1;32mD:\\UNIVERSITY_WORKS\\Pokedex-CNN\\.venv\\lib\\site-packages\\keras\\src\\utils\\traceback_utils.py:65\u001B[0m, in \u001B[0;36mfilter_traceback.<locals>.error_handler\u001B[1;34m(*args, **kwargs)\u001B[0m\n\u001B[0;32m     63\u001B[0m filtered_tb \u001B[38;5;241m=\u001B[39m \u001B[38;5;28;01mNone\u001B[39;00m\n\u001B[0;32m     64\u001B[0m \u001B[38;5;28;01mtry\u001B[39;00m:\n\u001B[1;32m---> 65\u001B[0m     \u001B[38;5;28;01mreturn\u001B[39;00m fn(\u001B[38;5;241m*\u001B[39margs, \u001B[38;5;241m*\u001B[39m\u001B[38;5;241m*\u001B[39mkwargs)\n\u001B[0;32m     66\u001B[0m \u001B[38;5;28;01mexcept\u001B[39;00m \u001B[38;5;167;01mException\u001B[39;00m \u001B[38;5;28;01mas\u001B[39;00m e:\n\u001B[0;32m     67\u001B[0m     filtered_tb \u001B[38;5;241m=\u001B[39m _process_traceback_frames(e\u001B[38;5;241m.\u001B[39m__traceback__)\n",
      "File \u001B[1;32mD:\\UNIVERSITY_WORKS\\Pokedex-CNN\\.venv\\lib\\site-packages\\keras\\src\\engine\\training.py:2200\u001B[0m, in \u001B[0;36mModel.evaluate\u001B[1;34m(self, x, y, batch_size, verbose, sample_weight, steps, callbacks, max_queue_size, workers, use_multiprocessing, return_dict, **kwargs)\u001B[0m\n\u001B[0;32m   2196\u001B[0m             \u001B[38;5;28;01mwith\u001B[39;00m tf\u001B[38;5;241m.\u001B[39mprofiler\u001B[38;5;241m.\u001B[39mexperimental\u001B[38;5;241m.\u001B[39mTrace(\n\u001B[0;32m   2197\u001B[0m                 \u001B[38;5;124m\"\u001B[39m\u001B[38;5;124mtest\u001B[39m\u001B[38;5;124m\"\u001B[39m, step_num\u001B[38;5;241m=\u001B[39mstep, _r\u001B[38;5;241m=\u001B[39m\u001B[38;5;241m1\u001B[39m\n\u001B[0;32m   2198\u001B[0m             ):\n\u001B[0;32m   2199\u001B[0m                 callbacks\u001B[38;5;241m.\u001B[39mon_test_batch_begin(step)\n\u001B[1;32m-> 2200\u001B[0m                 logs \u001B[38;5;241m=\u001B[39m \u001B[43mtest_function_runner\u001B[49m\u001B[38;5;241;43m.\u001B[39;49m\u001B[43mrun_step\u001B[49m\u001B[43m(\u001B[49m\n\u001B[0;32m   2201\u001B[0m \u001B[43m                    \u001B[49m\u001B[43mdataset_or_iterator\u001B[49m\u001B[43m,\u001B[49m\n\u001B[0;32m   2202\u001B[0m \u001B[43m                    \u001B[49m\u001B[43mdata_handler\u001B[49m\u001B[43m,\u001B[49m\n\u001B[0;32m   2203\u001B[0m \u001B[43m                    \u001B[49m\u001B[43mstep\u001B[49m\u001B[43m,\u001B[49m\n\u001B[0;32m   2204\u001B[0m \u001B[43m                    \u001B[49m\u001B[38;5;28;43mself\u001B[39;49m\u001B[38;5;241;43m.\u001B[39;49m\u001B[43m_pss_evaluation_shards\u001B[49m\u001B[43m,\u001B[49m\n\u001B[0;32m   2205\u001B[0m \u001B[43m                \u001B[49m\u001B[43m)\u001B[49m\n\u001B[0;32m   2207\u001B[0m logs \u001B[38;5;241m=\u001B[39m tf_utils\u001B[38;5;241m.\u001B[39msync_to_numpy_or_python_type(logs)\n\u001B[0;32m   2208\u001B[0m \u001B[38;5;66;03m# Override with model metrics instead of last step logs\u001B[39;00m\n",
      "File \u001B[1;32mD:\\UNIVERSITY_WORKS\\Pokedex-CNN\\.venv\\lib\\site-packages\\keras\\src\\engine\\training.py:4000\u001B[0m, in \u001B[0;36m_TestFunction.run_step\u001B[1;34m(self, dataset_or_iterator, data_handler, step, unused_shards)\u001B[0m\n\u001B[0;32m   3999\u001B[0m \u001B[38;5;28;01mdef\u001B[39;00m \u001B[38;5;21mrun_step\u001B[39m(\u001B[38;5;28mself\u001B[39m, dataset_or_iterator, data_handler, step, unused_shards):\n\u001B[1;32m-> 4000\u001B[0m     tmp_logs \u001B[38;5;241m=\u001B[39m \u001B[38;5;28;43mself\u001B[39;49m\u001B[38;5;241;43m.\u001B[39;49m\u001B[43m_function\u001B[49m\u001B[43m(\u001B[49m\u001B[43mdataset_or_iterator\u001B[49m\u001B[43m)\u001B[49m\n\u001B[0;32m   4001\u001B[0m     \u001B[38;5;28;01mif\u001B[39;00m data_handler\u001B[38;5;241m.\u001B[39mshould_sync:\n\u001B[0;32m   4002\u001B[0m         context\u001B[38;5;241m.\u001B[39masync_wait()\n",
      "File \u001B[1;32mD:\\UNIVERSITY_WORKS\\Pokedex-CNN\\.venv\\lib\\site-packages\\tensorflow\\python\\util\\traceback_utils.py:150\u001B[0m, in \u001B[0;36mfilter_traceback.<locals>.error_handler\u001B[1;34m(*args, **kwargs)\u001B[0m\n\u001B[0;32m    148\u001B[0m filtered_tb \u001B[38;5;241m=\u001B[39m \u001B[38;5;28;01mNone\u001B[39;00m\n\u001B[0;32m    149\u001B[0m \u001B[38;5;28;01mtry\u001B[39;00m:\n\u001B[1;32m--> 150\u001B[0m   \u001B[38;5;28;01mreturn\u001B[39;00m fn(\u001B[38;5;241m*\u001B[39margs, \u001B[38;5;241m*\u001B[39m\u001B[38;5;241m*\u001B[39mkwargs)\n\u001B[0;32m    151\u001B[0m \u001B[38;5;28;01mexcept\u001B[39;00m \u001B[38;5;167;01mException\u001B[39;00m \u001B[38;5;28;01mas\u001B[39;00m e:\n\u001B[0;32m    152\u001B[0m   filtered_tb \u001B[38;5;241m=\u001B[39m _process_traceback_frames(e\u001B[38;5;241m.\u001B[39m__traceback__)\n",
      "File \u001B[1;32mD:\\UNIVERSITY_WORKS\\Pokedex-CNN\\.venv\\lib\\site-packages\\tensorflow\\python\\eager\\polymorphic_function\\polymorphic_function.py:825\u001B[0m, in \u001B[0;36mFunction.__call__\u001B[1;34m(self, *args, **kwds)\u001B[0m\n\u001B[0;32m    822\u001B[0m compiler \u001B[38;5;241m=\u001B[39m \u001B[38;5;124m\"\u001B[39m\u001B[38;5;124mxla\u001B[39m\u001B[38;5;124m\"\u001B[39m \u001B[38;5;28;01mif\u001B[39;00m \u001B[38;5;28mself\u001B[39m\u001B[38;5;241m.\u001B[39m_jit_compile \u001B[38;5;28;01melse\u001B[39;00m \u001B[38;5;124m\"\u001B[39m\u001B[38;5;124mnonXla\u001B[39m\u001B[38;5;124m\"\u001B[39m\n\u001B[0;32m    824\u001B[0m \u001B[38;5;28;01mwith\u001B[39;00m OptionalXlaContext(\u001B[38;5;28mself\u001B[39m\u001B[38;5;241m.\u001B[39m_jit_compile):\n\u001B[1;32m--> 825\u001B[0m   result \u001B[38;5;241m=\u001B[39m \u001B[38;5;28mself\u001B[39m\u001B[38;5;241m.\u001B[39m_call(\u001B[38;5;241m*\u001B[39margs, \u001B[38;5;241m*\u001B[39m\u001B[38;5;241m*\u001B[39mkwds)\n\u001B[0;32m    827\u001B[0m new_tracing_count \u001B[38;5;241m=\u001B[39m \u001B[38;5;28mself\u001B[39m\u001B[38;5;241m.\u001B[39mexperimental_get_tracing_count()\n\u001B[0;32m    828\u001B[0m without_tracing \u001B[38;5;241m=\u001B[39m (tracing_count \u001B[38;5;241m==\u001B[39m new_tracing_count)\n",
      "File \u001B[1;32mD:\\UNIVERSITY_WORKS\\Pokedex-CNN\\.venv\\lib\\site-packages\\tensorflow\\python\\eager\\polymorphic_function\\polymorphic_function.py:864\u001B[0m, in \u001B[0;36mFunction._call\u001B[1;34m(self, *args, **kwds)\u001B[0m\n\u001B[0;32m    861\u001B[0m \u001B[38;5;28mself\u001B[39m\u001B[38;5;241m.\u001B[39m_lock\u001B[38;5;241m.\u001B[39mrelease()\n\u001B[0;32m    862\u001B[0m \u001B[38;5;66;03m# In this case we have not created variables on the first call. So we can\u001B[39;00m\n\u001B[0;32m    863\u001B[0m \u001B[38;5;66;03m# run the first trace but we should fail if variables are created.\u001B[39;00m\n\u001B[1;32m--> 864\u001B[0m results \u001B[38;5;241m=\u001B[39m \u001B[38;5;28mself\u001B[39m\u001B[38;5;241m.\u001B[39m_variable_creation_fn(\u001B[38;5;241m*\u001B[39margs, \u001B[38;5;241m*\u001B[39m\u001B[38;5;241m*\u001B[39mkwds)\n\u001B[0;32m    865\u001B[0m \u001B[38;5;28;01mif\u001B[39;00m \u001B[38;5;28mself\u001B[39m\u001B[38;5;241m.\u001B[39m_created_variables \u001B[38;5;129;01mand\u001B[39;00m \u001B[38;5;129;01mnot\u001B[39;00m ALLOW_DYNAMIC_VARIABLE_CREATION:\n\u001B[0;32m    866\u001B[0m   \u001B[38;5;28;01mraise\u001B[39;00m \u001B[38;5;167;01mValueError\u001B[39;00m(\u001B[38;5;124m\"\u001B[39m\u001B[38;5;124mCreating variables on a non-first call to a function\u001B[39m\u001B[38;5;124m\"\u001B[39m\n\u001B[0;32m    867\u001B[0m                    \u001B[38;5;124m\"\u001B[39m\u001B[38;5;124m decorated with tf.function.\u001B[39m\u001B[38;5;124m\"\u001B[39m)\n",
      "File \u001B[1;32mD:\\UNIVERSITY_WORKS\\Pokedex-CNN\\.venv\\lib\\site-packages\\tensorflow\\python\\eager\\polymorphic_function\\tracing_compiler.py:148\u001B[0m, in \u001B[0;36mTracingCompiler.__call__\u001B[1;34m(self, *args, **kwargs)\u001B[0m\n\u001B[0;32m    145\u001B[0m \u001B[38;5;28;01mwith\u001B[39;00m \u001B[38;5;28mself\u001B[39m\u001B[38;5;241m.\u001B[39m_lock:\n\u001B[0;32m    146\u001B[0m   (concrete_function,\n\u001B[0;32m    147\u001B[0m    filtered_flat_args) \u001B[38;5;241m=\u001B[39m \u001B[38;5;28mself\u001B[39m\u001B[38;5;241m.\u001B[39m_maybe_define_function(args, kwargs)\n\u001B[1;32m--> 148\u001B[0m \u001B[38;5;28;01mreturn\u001B[39;00m \u001B[43mconcrete_function\u001B[49m\u001B[38;5;241;43m.\u001B[39;49m\u001B[43m_call_flat\u001B[49m\u001B[43m(\u001B[49m\n\u001B[0;32m    149\u001B[0m \u001B[43m    \u001B[49m\u001B[43mfiltered_flat_args\u001B[49m\u001B[43m,\u001B[49m\u001B[43m \u001B[49m\u001B[43mcaptured_inputs\u001B[49m\u001B[38;5;241;43m=\u001B[39;49m\u001B[43mconcrete_function\u001B[49m\u001B[38;5;241;43m.\u001B[39;49m\u001B[43mcaptured_inputs\u001B[49m\u001B[43m)\u001B[49m\n",
      "File \u001B[1;32mD:\\UNIVERSITY_WORKS\\Pokedex-CNN\\.venv\\lib\\site-packages\\tensorflow\\python\\eager\\polymorphic_function\\monomorphic_function.py:1349\u001B[0m, in \u001B[0;36mConcreteFunction._call_flat\u001B[1;34m(self, args, captured_inputs)\u001B[0m\n\u001B[0;32m   1345\u001B[0m possible_gradient_type \u001B[38;5;241m=\u001B[39m gradients_util\u001B[38;5;241m.\u001B[39mPossibleTapeGradientTypes(args)\n\u001B[0;32m   1346\u001B[0m \u001B[38;5;28;01mif\u001B[39;00m (possible_gradient_type \u001B[38;5;241m==\u001B[39m gradients_util\u001B[38;5;241m.\u001B[39mPOSSIBLE_GRADIENT_TYPES_NONE\n\u001B[0;32m   1347\u001B[0m     \u001B[38;5;129;01mand\u001B[39;00m executing_eagerly):\n\u001B[0;32m   1348\u001B[0m   \u001B[38;5;66;03m# No tape is watching; skip to running the function.\u001B[39;00m\n\u001B[1;32m-> 1349\u001B[0m   \u001B[38;5;28;01mreturn\u001B[39;00m \u001B[38;5;28mself\u001B[39m\u001B[38;5;241m.\u001B[39m_build_call_outputs(\u001B[38;5;28;43mself\u001B[39;49m\u001B[38;5;241;43m.\u001B[39;49m\u001B[43m_inference_function\u001B[49m\u001B[43m(\u001B[49m\u001B[38;5;241;43m*\u001B[39;49m\u001B[43margs\u001B[49m\u001B[43m)\u001B[49m)\n\u001B[0;32m   1350\u001B[0m forward_backward \u001B[38;5;241m=\u001B[39m \u001B[38;5;28mself\u001B[39m\u001B[38;5;241m.\u001B[39m_select_forward_and_backward_functions(\n\u001B[0;32m   1351\u001B[0m     args,\n\u001B[0;32m   1352\u001B[0m     possible_gradient_type,\n\u001B[0;32m   1353\u001B[0m     executing_eagerly)\n\u001B[0;32m   1354\u001B[0m forward_function, args_with_tangents \u001B[38;5;241m=\u001B[39m forward_backward\u001B[38;5;241m.\u001B[39mforward()\n",
      "File \u001B[1;32mD:\\UNIVERSITY_WORKS\\Pokedex-CNN\\.venv\\lib\\site-packages\\tensorflow\\python\\eager\\polymorphic_function\\atomic_function.py:196\u001B[0m, in \u001B[0;36mAtomicFunction.__call__\u001B[1;34m(self, *args)\u001B[0m\n\u001B[0;32m    194\u001B[0m \u001B[38;5;28;01mwith\u001B[39;00m record\u001B[38;5;241m.\u001B[39mstop_recording():\n\u001B[0;32m    195\u001B[0m   \u001B[38;5;28;01mif\u001B[39;00m \u001B[38;5;28mself\u001B[39m\u001B[38;5;241m.\u001B[39m_bound_context\u001B[38;5;241m.\u001B[39mexecuting_eagerly():\n\u001B[1;32m--> 196\u001B[0m     outputs \u001B[38;5;241m=\u001B[39m \u001B[38;5;28;43mself\u001B[39;49m\u001B[38;5;241;43m.\u001B[39;49m\u001B[43m_bound_context\u001B[49m\u001B[38;5;241;43m.\u001B[39;49m\u001B[43mcall_function\u001B[49m\u001B[43m(\u001B[49m\n\u001B[0;32m    197\u001B[0m \u001B[43m        \u001B[49m\u001B[38;5;28;43mself\u001B[39;49m\u001B[38;5;241;43m.\u001B[39;49m\u001B[43mname\u001B[49m\u001B[43m,\u001B[49m\n\u001B[0;32m    198\u001B[0m \u001B[43m        \u001B[49m\u001B[38;5;28;43mlist\u001B[39;49m\u001B[43m(\u001B[49m\u001B[43margs\u001B[49m\u001B[43m)\u001B[49m\u001B[43m,\u001B[49m\n\u001B[0;32m    199\u001B[0m \u001B[43m        \u001B[49m\u001B[38;5;28;43mlen\u001B[39;49m\u001B[43m(\u001B[49m\u001B[38;5;28;43mself\u001B[39;49m\u001B[38;5;241;43m.\u001B[39;49m\u001B[43mfunction_type\u001B[49m\u001B[38;5;241;43m.\u001B[39;49m\u001B[43mflat_outputs\u001B[49m\u001B[43m)\u001B[49m\u001B[43m,\u001B[49m\n\u001B[0;32m    200\u001B[0m \u001B[43m    \u001B[49m\u001B[43m)\u001B[49m\n\u001B[0;32m    201\u001B[0m   \u001B[38;5;28;01melse\u001B[39;00m:\n\u001B[0;32m    202\u001B[0m     outputs \u001B[38;5;241m=\u001B[39m make_call_op_in_graph(\u001B[38;5;28mself\u001B[39m, \u001B[38;5;28mlist\u001B[39m(args))\n",
      "File \u001B[1;32mD:\\UNIVERSITY_WORKS\\Pokedex-CNN\\.venv\\lib\\site-packages\\tensorflow\\python\\eager\\context.py:1457\u001B[0m, in \u001B[0;36mContext.call_function\u001B[1;34m(self, name, tensor_inputs, num_outputs)\u001B[0m\n\u001B[0;32m   1455\u001B[0m cancellation_context \u001B[38;5;241m=\u001B[39m cancellation\u001B[38;5;241m.\u001B[39mcontext()\n\u001B[0;32m   1456\u001B[0m \u001B[38;5;28;01mif\u001B[39;00m cancellation_context \u001B[38;5;129;01mis\u001B[39;00m \u001B[38;5;28;01mNone\u001B[39;00m:\n\u001B[1;32m-> 1457\u001B[0m   outputs \u001B[38;5;241m=\u001B[39m \u001B[43mexecute\u001B[49m\u001B[38;5;241;43m.\u001B[39;49m\u001B[43mexecute\u001B[49m\u001B[43m(\u001B[49m\n\u001B[0;32m   1458\u001B[0m \u001B[43m      \u001B[49m\u001B[43mname\u001B[49m\u001B[38;5;241;43m.\u001B[39;49m\u001B[43mdecode\u001B[49m\u001B[43m(\u001B[49m\u001B[38;5;124;43m\"\u001B[39;49m\u001B[38;5;124;43mutf-8\u001B[39;49m\u001B[38;5;124;43m\"\u001B[39;49m\u001B[43m)\u001B[49m\u001B[43m,\u001B[49m\n\u001B[0;32m   1459\u001B[0m \u001B[43m      \u001B[49m\u001B[43mnum_outputs\u001B[49m\u001B[38;5;241;43m=\u001B[39;49m\u001B[43mnum_outputs\u001B[49m\u001B[43m,\u001B[49m\n\u001B[0;32m   1460\u001B[0m \u001B[43m      \u001B[49m\u001B[43minputs\u001B[49m\u001B[38;5;241;43m=\u001B[39;49m\u001B[43mtensor_inputs\u001B[49m\u001B[43m,\u001B[49m\n\u001B[0;32m   1461\u001B[0m \u001B[43m      \u001B[49m\u001B[43mattrs\u001B[49m\u001B[38;5;241;43m=\u001B[39;49m\u001B[43mattrs\u001B[49m\u001B[43m,\u001B[49m\n\u001B[0;32m   1462\u001B[0m \u001B[43m      \u001B[49m\u001B[43mctx\u001B[49m\u001B[38;5;241;43m=\u001B[39;49m\u001B[38;5;28;43mself\u001B[39;49m\u001B[43m,\u001B[49m\n\u001B[0;32m   1463\u001B[0m \u001B[43m  \u001B[49m\u001B[43m)\u001B[49m\n\u001B[0;32m   1464\u001B[0m \u001B[38;5;28;01melse\u001B[39;00m:\n\u001B[0;32m   1465\u001B[0m   outputs \u001B[38;5;241m=\u001B[39m execute\u001B[38;5;241m.\u001B[39mexecute_with_cancellation(\n\u001B[0;32m   1466\u001B[0m       name\u001B[38;5;241m.\u001B[39mdecode(\u001B[38;5;124m\"\u001B[39m\u001B[38;5;124mutf-8\u001B[39m\u001B[38;5;124m\"\u001B[39m),\n\u001B[0;32m   1467\u001B[0m       num_outputs\u001B[38;5;241m=\u001B[39mnum_outputs,\n\u001B[1;32m   (...)\u001B[0m\n\u001B[0;32m   1471\u001B[0m       cancellation_manager\u001B[38;5;241m=\u001B[39mcancellation_context,\n\u001B[0;32m   1472\u001B[0m   )\n",
      "File \u001B[1;32mD:\\UNIVERSITY_WORKS\\Pokedex-CNN\\.venv\\lib\\site-packages\\tensorflow\\python\\eager\\execute.py:53\u001B[0m, in \u001B[0;36mquick_execute\u001B[1;34m(op_name, num_outputs, inputs, attrs, ctx, name)\u001B[0m\n\u001B[0;32m     51\u001B[0m \u001B[38;5;28;01mtry\u001B[39;00m:\n\u001B[0;32m     52\u001B[0m   ctx\u001B[38;5;241m.\u001B[39mensure_initialized()\n\u001B[1;32m---> 53\u001B[0m   tensors \u001B[38;5;241m=\u001B[39m \u001B[43mpywrap_tfe\u001B[49m\u001B[38;5;241;43m.\u001B[39;49m\u001B[43mTFE_Py_Execute\u001B[49m\u001B[43m(\u001B[49m\u001B[43mctx\u001B[49m\u001B[38;5;241;43m.\u001B[39;49m\u001B[43m_handle\u001B[49m\u001B[43m,\u001B[49m\u001B[43m \u001B[49m\u001B[43mdevice_name\u001B[49m\u001B[43m,\u001B[49m\u001B[43m \u001B[49m\u001B[43mop_name\u001B[49m\u001B[43m,\u001B[49m\n\u001B[0;32m     54\u001B[0m \u001B[43m                                      \u001B[49m\u001B[43minputs\u001B[49m\u001B[43m,\u001B[49m\u001B[43m \u001B[49m\u001B[43mattrs\u001B[49m\u001B[43m,\u001B[49m\u001B[43m \u001B[49m\u001B[43mnum_outputs\u001B[49m\u001B[43m)\u001B[49m\n\u001B[0;32m     55\u001B[0m \u001B[38;5;28;01mexcept\u001B[39;00m core\u001B[38;5;241m.\u001B[39m_NotOkStatusException \u001B[38;5;28;01mas\u001B[39;00m e:\n\u001B[0;32m     56\u001B[0m   \u001B[38;5;28;01mif\u001B[39;00m name \u001B[38;5;129;01mis\u001B[39;00m \u001B[38;5;129;01mnot\u001B[39;00m \u001B[38;5;28;01mNone\u001B[39;00m:\n",
      "\u001B[1;31mKeyboardInterrupt\u001B[0m: "
     ]
    }
   ],
   "source": [
    "'''Training the model'''\n",
    "history = model.fit(train_ds, epochs=20,validation_data=test_ds, validation_steps=test_steps,callbacks=[my_callback], batch_size=batch_size,\n",
    "                    steps_per_epoch=steps_per_epoch)"
   ],
   "metadata": {
    "collapsed": false,
    "ExecuteTime": {
     "end_time": "2024-03-23T07:24:33.359737Z",
     "start_time": "2024-03-23T07:10:38.895960Z"
    }
   },
   "id": "3bf40a2086670067",
   "execution_count": 87
  },
  {
   "cell_type": "code",
   "outputs": [],
   "source": [
    "class Plot():\n",
    "    #use it to plot layers and writing in a class to keep it organised\n",
    "    pass\n"
   ],
   "metadata": {
    "collapsed": false,
    "ExecuteTime": {
     "end_time": "2024-03-21T08:07:45.846072Z",
     "start_time": "2024-03-21T08:07:45.833071Z"
    }
   },
   "id": "b16a09cbcb607567",
   "execution_count": 43
  },
  {
   "cell_type": "code",
   "outputs": [],
   "source": [],
   "metadata": {
    "collapsed": false
   },
   "id": "a14247889d3e5dbc"
  },
  {
   "cell_type": "code",
   "outputs": [],
   "source": [],
   "metadata": {
    "collapsed": false
   },
   "id": "6f6877108a1f187e",
   "execution_count": null
  },
  {
   "cell_type": "code",
   "outputs": [],
   "source": [],
   "metadata": {
    "collapsed": false
   },
   "id": "4d468f532ddaf528"
  }
 ],
 "metadata": {
  "kernelspec": {
   "display_name": "Python 3",
   "language": "python",
   "name": "python3"
  },
  "language_info": {
   "codemirror_mode": {
    "name": "ipython",
    "version": 2
   },
   "file_extension": ".py",
   "mimetype": "text/x-python",
   "name": "python",
   "nbconvert_exporter": "python",
   "pygments_lexer": "ipython2",
   "version": "2.7.6"
  }
 },
 "nbformat": 4,
 "nbformat_minor": 5
}
