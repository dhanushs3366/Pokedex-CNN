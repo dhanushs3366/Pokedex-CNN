{
 "cells": [
  {
   "cell_type": "code",
   "execution_count": 1,
   "id": "initial_id",
   "metadata": {
    "collapsed": true,
    "ExecuteTime": {
     "end_time": "2024-03-03T04:08:33.137244Z",
     "start_time": "2024-03-03T04:08:29.123665Z"
    }
   },
   "outputs": [],
   "source": [
    "import keras.callbacks\n",
    "import tensorflow as tf\n",
    "import numpy as np\n",
    "from PIL import Image\n",
    "import os\n",
    "import random\n",
    "import pandas as pd"
   ]
  },
  {
   "cell_type": "markdown",
   "source": [
    "## Todo:\n",
    "1) use tf.data.Dataset to read from type dataset\n",
    "2) use a dataset fn to apply a transformation such that it randomly selects an m no of images from n images of that pokemon "
   ],
   "metadata": {
    "collapsed": false
   },
   "id": "f141aeabfe1e9c51"
  },
  {
   "cell_type": "code",
   "outputs": [],
   "source": [
    "class PokemonTypeDataset(tf.data.Dataset):\n",
    "    @staticmethod\n",
    "    def one_hot_encode_labels(labels,all_labels:[]):\n",
    "        label_map={pokemon_type:one_hot_index for one_hot_index, pokemon_type in enumerate(all_labels)} #enum[(0,type1),(1,type2)...]\n",
    "        one_hot_labels=np.zeros((len(labels),len(all_labels)),dtype=np.int8)\n",
    "        for index,pokemon_type  in enumerate(labels):\n",
    "            one_hot_label_index=label_map[pokemon_type]\n",
    "            one_hot_labels[index,one_hot_label_index]=1\n",
    "        result_labels = np.sum(one_hot_labels, axis=0)\n",
    "        return result_labels.astype(np.int8)\n",
    "        \n",
    "    @staticmethod\n",
    "    def super_generator(all_labels):\n",
    "        def _generator(csv_dir):\n",
    "            pokemon_df=pd.read_csv(csv_dir.decode())\n",
    "            for index, pokemon in pokemon_df.iterrows():\n",
    "                pokemon_path=pokemon[\"image_path\"]\n",
    "                if pokemon_path.endswith(\".svg\"):\n",
    "                    continue\n",
    "                pokemon_tensor=np.asarray(Image.open(pokemon_path).convert('RGB').resize((256,256)))\n",
    "                pokemon_tensor=pokemon_tensor/255.0\n",
    "                pokemon_types=[]\n",
    "                if pd.isna(pokemon[\"type2\"]):\n",
    "                    pokemon_types+=[pokemon[\"type1\"]]\n",
    "                else:\n",
    "                    pokemon_types+=[pokemon[\"type1\"],pokemon[\"type2\"]]\n",
    "                \n",
    "                yield pokemon_tensor, one_hot_encode(pokemon_types,all_labels)\n",
    "        return _generator\n",
    "\n",
    "    def __new__(cls, csv_dir:str,all_labels:list):\n",
    "        return tf.data.Dataset.from_generator(\n",
    "            cls.super_generator(all_labels),\n",
    "            args=(csv_dir,),\n",
    "            output_signature=(\n",
    "                tf.TensorSpec(shape=(256,256,3), dtype=tf.float32),\n",
    "                tf.TensorSpec(shape=(None,),dtype=tf.int8)\n",
    "            )\n",
    "        ).prefetch(buffer_size=tf.data.experimental.AUTOTUNE)"
   ],
   "metadata": {
    "collapsed": false,
    "ExecuteTime": {
     "end_time": "2024-03-03T05:10:46.374363Z",
     "start_time": "2024-03-03T05:10:46.366712Z"
    }
   },
   "id": "470d42871a12f2f4",
   "execution_count": 100
  },
  {
   "cell_type": "code",
   "outputs": [],
   "source": [],
   "metadata": {
    "collapsed": false,
    "ExecuteTime": {
     "end_time": "2024-03-03T05:10:47.576585Z",
     "start_time": "2024-03-03T05:10:47.574286Z"
    }
   },
   "id": "2ad3077d8032e98f",
   "execution_count": 101
  },
  {
   "cell_type": "code",
   "outputs": [],
   "source": [
    "dataset_dir=\"../new_dataset\"\n",
    "csv_dir=\"../csv/pokemon.csv\"\n",
    "batch_size=32\n",
    "all_labels=os.listdir(dataset_dir)\n",
    "label_shapes=[1,2]"
   ],
   "metadata": {
    "collapsed": false,
    "ExecuteTime": {
     "end_time": "2024-03-03T05:10:48.025022Z",
     "start_time": "2024-03-03T05:10:48.021029Z"
    }
   },
   "id": "cde7d955f1e953cd",
   "execution_count": 102
  },
  {
   "cell_type": "code",
   "outputs": [],
   "source": [
    "dataset=PokemonTypeDataset(csv_dir,all_labels)\n",
    "dataset=dataset.batch(batch_size,num_parallel_calls=tf.data.experimental.AUTOTUNE)"
   ],
   "metadata": {
    "collapsed": false,
    "ExecuteTime": {
     "end_time": "2024-03-03T05:10:49.500229Z",
     "start_time": "2024-03-03T05:10:49.476455Z"
    }
   },
   "id": "1397c0321b61ba65",
   "execution_count": 104
  },
  {
   "cell_type": "code",
   "outputs": [],
   "source": [],
   "metadata": {
    "collapsed": false,
    "ExecuteTime": {
     "end_time": "2024-03-03T05:10:50.677994Z",
     "start_time": "2024-03-03T05:10:50.675137Z"
    }
   },
   "id": "b81b0f85813117b4",
   "execution_count": 104
  },
  {
   "cell_type": "code",
   "outputs": [
    {
     "name": "stderr",
     "output_type": "stream",
     "text": [
      "C:\\Users\\dhanu\\anaconda3\\envs\\POKEDEX_CNN\\Lib\\site-packages\\PIL\\Image.py:981: UserWarning: Palette images with Transparency expressed in bytes should be converted to RGBA images\n",
      "  warnings.warn(\n"
     ]
    }
   ],
   "source": [
    "dataset_size=0\n",
    "for element in dataset.as_numpy_iterator():\n",
    "    \n",
    "    \n",
    "    dataset_size+=1"
   ],
   "metadata": {
    "collapsed": false,
    "ExecuteTime": {
     "end_time": "2024-03-03T05:16:23.031644Z",
     "start_time": "2024-03-03T05:14:41.771190Z"
    }
   },
   "id": "c1a9eb56beca0439",
   "execution_count": 108
  },
  {
   "cell_type": "code",
   "outputs": [
    {
     "name": "stdout",
     "output_type": "stream",
     "text": [
      "dataset size: 10688\n"
     ]
    }
   ],
   "source": [
    "dataset_size=dataset_size*batch_size\n",
    "print(f\"dataset size: {dataset_size}\")"
   ],
   "metadata": {
    "collapsed": false,
    "ExecuteTime": {
     "end_time": "2024-03-03T05:19:32.229245Z",
     "start_time": "2024-03-03T05:19:32.224875Z"
    }
   },
   "id": "b821a4419db8ba92",
   "execution_count": 114
  },
  {
   "cell_type": "code",
   "outputs": [],
   "source": [],
   "metadata": {
    "collapsed": false,
    "ExecuteTime": {
     "end_time": "2024-03-03T05:19:36.580589Z",
     "start_time": "2024-03-03T05:19:36.577528Z"
    }
   },
   "id": "40131e1e506eb333",
   "execution_count": 114
  },
  {
   "cell_type": "code",
   "outputs": [],
   "source": [
    "'''\n",
    "Test and training data\n",
    "'''\n",
    "shuffled_dataset=dataset.shuffle(buffer_size=dataset_size,seed=69) \n",
    "\n",
    "train_size=int(0.8*dataset_size)\n",
    "test_size=dataset_size-train_size\n",
    "train_ds=shuffled_dataset.take(train_size)\n",
    "test_ds=shuffled_dataset.skip(train_size)"
   ],
   "metadata": {
    "collapsed": false,
    "ExecuteTime": {
     "end_time": "2024-03-03T05:19:37.624802Z",
     "start_time": "2024-03-03T05:19:37.618829Z"
    }
   },
   "id": "162b7b9067c08140",
   "execution_count": 115
  },
  {
   "cell_type": "code",
   "outputs": [],
   "source": [
    "pokemon_types_len=len(os.listdir(dataset_dir))"
   ],
   "metadata": {
    "collapsed": false,
    "ExecuteTime": {
     "end_time": "2024-03-03T05:19:43.635324Z",
     "start_time": "2024-03-03T05:19:43.632002Z"
    }
   },
   "id": "5c8a4c4079bd3f28",
   "execution_count": 116
  },
  {
   "cell_type": "code",
   "outputs": [
    {
     "data": {
      "text/plain": "17"
     },
     "execution_count": 117,
     "metadata": {},
     "output_type": "execute_result"
    }
   ],
   "source": [
    "pokemon_types_len"
   ],
   "metadata": {
    "collapsed": false,
    "ExecuteTime": {
     "end_time": "2024-03-03T05:19:44.143712Z",
     "start_time": "2024-03-03T05:19:44.139099Z"
    }
   },
   "id": "233a712960b2b480",
   "execution_count": 117
  },
  {
   "cell_type": "code",
   "outputs": [],
   "source": [
    "steps_per_epoch=tf.math.ceil(train_size/batch_size)"
   ],
   "metadata": {
    "collapsed": false,
    "ExecuteTime": {
     "end_time": "2024-03-03T05:19:45.255284Z",
     "start_time": "2024-03-03T05:19:45.251041Z"
    }
   },
   "id": "267c8f3e6ac41ce5",
   "execution_count": 118
  },
  {
   "cell_type": "code",
   "outputs": [],
   "source": [
    "class MyCallback(tf.keras.callbacks.Callback):\n",
    "    def on_epoch_end(self, epoch, logs={}):\n",
    "        if logs.get('accuracy')>=0.99:\n",
    "            print('Test accuracy: %.2f%%' % (logs.get('accuracy')*100))\n",
    "            self.model.stop_training = True\n",
    "\n",
    "            "
   ],
   "metadata": {
    "collapsed": false,
    "ExecuteTime": {
     "end_time": "2024-03-03T05:19:45.721160Z",
     "start_time": "2024-03-03T05:19:45.618910Z"
    }
   },
   "id": "638ccd8603b67df1",
   "execution_count": 119
  },
  {
   "cell_type": "code",
   "outputs": [],
   "source": [
    "#MODEL BUILDING\n",
    "\n",
    "def get_model():\n",
    "    inputs=tf.keras.layers.Input(shape=(256,256,3))\n",
    "    output=tf.keras.layers.Conv2D(32,(5,5),activation=\"relu\")(inputs)\n",
    "    output=tf.keras.layers.MaxPooling2D(pool_size=(2,2))(output)\n",
    "    output=tf.keras.layers.Conv2D(64,(3,3),activation=\"relu\")(output)\n",
    "    output=tf.keras.layers.MaxPooling2D(pool_size=(2,2))(output)\n",
    "    output=tf.keras.layers.Flatten()(output)\n",
    "    output=tf.keras.layers.Dense(128,activation=\"relu\")(output)\n",
    "    output=tf.keras.layers.Dense(64,activation=\"relu\")(output)\n",
    "    output=tf.keras.layers.Dense(pokemon_types_len,activation=\"sigmoid\")(output)\n",
    "    model=tf.keras.models.Model(inputs=inputs, outputs=output)\n",
    "    model.compile(optimizer='adam',loss=tf.keras.losses.BinaryCrossentropy(),metrics=['accuracy'])\n",
    "    return model"
   ],
   "metadata": {
    "collapsed": false,
    "ExecuteTime": {
     "end_time": "2024-03-03T05:19:46.622787Z",
     "start_time": "2024-03-03T05:19:46.616584Z"
    }
   },
   "id": "5bbc85578d31",
   "execution_count": 120
  },
  {
   "cell_type": "code",
   "outputs": [],
   "source": [
    "my_callback=MyCallback()\n",
    "model=get_model()"
   ],
   "metadata": {
    "collapsed": false,
    "ExecuteTime": {
     "end_time": "2024-03-03T05:19:53.387971Z",
     "start_time": "2024-03-03T05:19:53.179562Z"
    }
   },
   "id": "eb3f0b2158b7cf40",
   "execution_count": 121
  },
  {
   "cell_type": "code",
   "outputs": [
    {
     "name": "stdout",
     "output_type": "stream",
     "text": [
      "Model: \"model\"\n",
      "_________________________________________________________________\n",
      " Layer (type)                Output Shape              Param #   \n",
      "=================================================================\n",
      " input_1 (InputLayer)        [(None, 256, 256, 3)]     0         \n",
      "                                                                 \n",
      " conv2d (Conv2D)             (None, 252, 252, 32)      2432      \n",
      "                                                                 \n",
      " max_pooling2d (MaxPooling2  (None, 126, 126, 32)      0         \n",
      " D)                                                              \n",
      "                                                                 \n",
      " conv2d_1 (Conv2D)           (None, 124, 124, 64)      18496     \n",
      "                                                                 \n",
      " max_pooling2d_1 (MaxPoolin  (None, 62, 62, 64)        0         \n",
      " g2D)                                                            \n",
      "                                                                 \n",
      " flatten (Flatten)           (None, 246016)            0         \n",
      "                                                                 \n",
      " dense (Dense)               (None, 128)               31490176  \n",
      "                                                                 \n",
      " dense_1 (Dense)             (None, 64)                8256      \n",
      "                                                                 \n",
      " dense_2 (Dense)             (None, 17)                1105      \n",
      "                                                                 \n",
      "=================================================================\n",
      "Total params: 31520465 (120.24 MB)\n",
      "Trainable params: 31520465 (120.24 MB)\n",
      "Non-trainable params: 0 (0.00 Byte)\n",
      "_________________________________________________________________\n"
     ]
    }
   ],
   "source": [
    "model.summary()"
   ],
   "metadata": {
    "collapsed": false,
    "ExecuteTime": {
     "end_time": "2024-03-03T05:19:54.268216Z",
     "start_time": "2024-03-03T05:19:54.249793Z"
    }
   },
   "id": "55bf0e7dc9af80eb",
   "execution_count": 122
  },
  {
   "cell_type": "code",
   "outputs": [
    {
     "name": "stdout",
     "output_type": "stream",
     "text": [
      "Epoch 1/10\n"
     ]
    },
    {
     "name": "stderr",
     "output_type": "stream",
     "text": [
      "C:\\Users\\dhanu\\anaconda3\\envs\\POKEDEX_CNN\\Lib\\site-packages\\PIL\\Image.py:981: UserWarning: Palette images with Transparency expressed in bytes should be converted to RGBA images\n",
      "  warnings.warn(\n"
     ]
    }
   ],
   "source": [
    "model.fit(x=train_ds,validation_data=test_ds,epochs=10,callbacks=[my_callback],batch_size=batch_size,use_multiprocessing=True,steps_per_epoch=steps_per_epoch)"
   ],
   "metadata": {
    "collapsed": false,
    "is_executing": true,
    "ExecuteTime": {
     "start_time": "2024-03-03T05:19:56.607627Z"
    }
   },
   "id": "7fbbbfdd9e4c56c5",
   "execution_count": null
  },
  {
   "cell_type": "code",
   "outputs": [],
   "source": [],
   "metadata": {
    "collapsed": false
   },
   "id": "632844a58a79c251"
  }
 ],
 "metadata": {
  "kernelspec": {
   "display_name": "Python 3",
   "language": "python",
   "name": "python3"
  },
  "language_info": {
   "codemirror_mode": {
    "name": "ipython",
    "version": 2
   },
   "file_extension": ".py",
   "mimetype": "text/x-python",
   "name": "python",
   "nbconvert_exporter": "python",
   "pygments_lexer": "ipython2",
   "version": "2.7.6"
  }
 },
 "nbformat": 4,
 "nbformat_minor": 5
}
