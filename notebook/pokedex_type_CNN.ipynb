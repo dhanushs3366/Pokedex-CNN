{
 "cells": [
  {
   "cell_type": "code",
   "execution_count": 162,
   "id": "initial_id",
   "metadata": {
    "collapsed": true,
    "ExecuteTime": {
     "end_time": "2024-03-02T14:27:50.930205Z",
     "start_time": "2024-03-02T14:27:50.926609Z"
    }
   },
   "outputs": [],
   "source": [
    "import keras.callbacks\n",
    "import tensorflow as tf\n",
    "import numpy as np\n",
    "from PIL import Image\n",
    "import os\n",
    "import random\n",
    "import pandas as pd"
   ]
  },
  {
   "cell_type": "markdown",
   "source": [
    "## Todo:\n",
    "1) use tf.data.Dataset to read from type dataset\n",
    "2) use a dataset fn to apply a transformation such that it randomly selects an m no of images from n images of that pokemon "
   ],
   "metadata": {
    "collapsed": false
   },
   "id": "f141aeabfe1e9c51"
  },
  {
   "cell_type": "code",
   "outputs": [],
   "source": [
    "class PokemonType(tf.data.Dataset):\n",
    "    @staticmethod\n",
    "    def _generator(dataset_dir: str):\n",
    "        pokemon_types = os.listdir(dataset_dir)  # [type1, type2] -> class labels\n",
    "        for pokemon_type in pokemon_types:\n",
    "            for pokemon_name in os.listdir(os.path.join(dataset_dir, pokemon_type)):\n",
    "                pokemon_paths = os.listdir(os.path.join(dataset_dir,pokemon_type,pokemon_name))\n",
    "                for pokemon_path in pokemon_paths:\n",
    "                    if not pokemon_path.endswith(b'.svg'):\n",
    "                        pokemon_img_path=os.path.join(dataset_dir,pokemon_type,pokemon_name,pokemon_path)\n",
    "                        pokemon_tensor=np.asarray(Image.open(pokemon_img_path).convert('RGB').resize((256,256)))\n",
    "                        yield pokemon_tensor,pokemon_type\n",
    "\n",
    "    def __new__(cls, dataset_dir: str):\n",
    "        return tf.data.Dataset.from_generator(\n",
    "            cls._generator,\n",
    "            args=(dataset_dir,),\n",
    "            output_signature=(\n",
    "                tf.TensorSpec(shape=(256,256,3), dtype=tf.uint8),  # Assuming RGB images\n",
    "                tf.TensorSpec(shape=(), dtype=tf.string)  # Class label dtype\n",
    "            )\n",
    "        )\n"
   ],
   "metadata": {
    "collapsed": false,
    "ExecuteTime": {
     "end_time": "2024-03-02T11:24:25.377226Z",
     "start_time": "2024-03-02T11:24:25.370006Z"
    }
   },
   "id": "936dc984c770b33d",
   "execution_count": 141
  },
  {
   "cell_type": "code",
   "outputs": [],
   "source": [
    "class PokemonTypeDataset(tf.data.Dataset):\n",
    "    @staticmethod\n",
    "    def _generator(csv_dir):\n",
    "        pokemon_df=pd.read_csv(csv_dir.decode())\n",
    "        for index, pokemon in pokemon_df.iterrows():\n",
    "            pokemon_path=pokemon[\"image_path\"]\n",
    "            if pokemon_path.endswith(\".svg\"):\n",
    "                continue\n",
    "            pokemon_tensor=np.asarray(Image.open(pokemon_path).convert('RGB').resize((256,256)))\n",
    "            pokemon_tensor=pokemon_tensor/255.0\n",
    "            pokemon_types=[]\n",
    "            if not pd.isna(pokemon[\"type2\"]):\n",
    "                pokemon_types.append(pokemon[\"type2\"])\n",
    "            pokemon_types.append(pokemon[\"type1\"])\n",
    "            \n",
    "            yield pokemon_tensor, np.asarray(pokemon_types)\n",
    "    def __new__(cls, csv_dir:str):\n",
    "        return tf.data.Dataset.from_generator(\n",
    "            cls._generator,\n",
    "            args=(csv_dir,),\n",
    "            output_signature=(\n",
    "                tf.TensorSpec(shape=(256,256,3), dtype=tf.float32),\n",
    "                tf.TensorSpec(shape=(None,),dtype=tf.string)\n",
    "            )\n",
    "        ).prefetch(buffer_size=tf.data.experimental.AUTOTUNE)"
   ],
   "metadata": {
    "collapsed": false,
    "ExecuteTime": {
     "end_time": "2024-03-02T16:25:46.974024Z",
     "start_time": "2024-03-02T16:25:46.967020Z"
    }
   },
   "id": "470d42871a12f2f4",
   "execution_count": 262
  },
  {
   "cell_type": "code",
   "outputs": [],
   "source": [
    "\n",
    "        "
   ],
   "metadata": {
    "collapsed": false
   },
   "id": "8906ab8c140b2ee2"
  },
  {
   "cell_type": "code",
   "outputs": [],
   "source": [
    "dataset_dir=\"../new_dataset\"\n",
    "csv_dir=\"../csv/pokemon.csv\""
   ],
   "metadata": {
    "collapsed": false,
    "ExecuteTime": {
     "end_time": "2024-03-02T16:21:08.830648Z",
     "start_time": "2024-03-02T16:21:08.826227Z"
    }
   },
   "id": "cde7d955f1e953cd",
   "execution_count": 258
  },
  {
   "cell_type": "code",
   "outputs": [],
   "source": [
    "dataset=PokemonType(dataset_dir)"
   ],
   "metadata": {
    "collapsed": false,
    "ExecuteTime": {
     "end_time": "2024-03-02T16:21:09.142688Z",
     "start_time": "2024-03-02T16:21:09.116226Z"
    }
   },
   "id": "f7c12095406fd74b",
   "execution_count": 259
  },
  {
   "cell_type": "code",
   "outputs": [],
   "source": [
    "dataset=PokemonTypeDataset(csv_dir).apply(tf.contrib.)"
   ],
   "metadata": {
    "collapsed": false,
    "ExecuteTime": {
     "end_time": "2024-03-02T16:21:09.422707Z",
     "start_time": "2024-03-02T16:21:09.399635Z"
    }
   },
   "id": "1397c0321b61ba65",
   "execution_count": 260
  },
  {
   "cell_type": "code",
   "outputs": [
    {
     "ename": "InvalidArgumentError",
     "evalue": "{{function_node __wrapped__IteratorGetNext_output_types_2_device_/job:localhost/replica:0/task:0/device:CPU:0}} Cannot batch tensors with different shapes in component 1. First element had shape [1] and element 10 had shape [2]. [Op:IteratorGetNext] name: ",
     "output_type": "error",
     "traceback": [
      "\u001B[1;31m---------------------------------------------------------------------------\u001B[0m",
      "\u001B[1;31mInvalidArgumentError\u001B[0m                      Traceback (most recent call last)",
      "Cell \u001B[1;32mIn[261], line 2\u001B[0m\n\u001B[0;32m      1\u001B[0m dataset_size\u001B[38;5;241m=\u001B[39m\u001B[38;5;241m0\u001B[39m\n\u001B[1;32m----> 2\u001B[0m \u001B[38;5;28;01mfor\u001B[39;00m element \u001B[38;5;129;01min\u001B[39;00m dataset\u001B[38;5;241m.\u001B[39mas_numpy_iterator():\n\u001B[0;32m      3\u001B[0m     dataset_size\u001B[38;5;241m+\u001B[39m\u001B[38;5;241m=\u001B[39m\u001B[38;5;241m1\u001B[39m\n",
      "File \u001B[1;32m~\\anaconda3\\envs\\POKEDEX_CNN\\Lib\\site-packages\\tensorflow\\python\\data\\ops\\dataset_ops.py:4700\u001B[0m, in \u001B[0;36m_NumpyIterator.__next__\u001B[1;34m(self)\u001B[0m\n\u001B[0;32m   4697\u001B[0m     numpy\u001B[38;5;241m.\u001B[39msetflags(write\u001B[38;5;241m=\u001B[39m\u001B[38;5;28;01mFalse\u001B[39;00m)\n\u001B[0;32m   4698\u001B[0m   \u001B[38;5;28;01mreturn\u001B[39;00m numpy\n\u001B[1;32m-> 4700\u001B[0m \u001B[38;5;28;01mreturn\u001B[39;00m nest\u001B[38;5;241m.\u001B[39mmap_structure(to_numpy, \u001B[38;5;28mnext\u001B[39m(\u001B[38;5;28mself\u001B[39m\u001B[38;5;241m.\u001B[39m_iterator))\n",
      "File \u001B[1;32m~\\anaconda3\\envs\\POKEDEX_CNN\\Lib\\site-packages\\tensorflow\\python\\data\\ops\\iterator_ops.py:814\u001B[0m, in \u001B[0;36mOwnedIterator.__next__\u001B[1;34m(self)\u001B[0m\n\u001B[0;32m    812\u001B[0m \u001B[38;5;28;01mdef\u001B[39;00m \u001B[38;5;21m__next__\u001B[39m(\u001B[38;5;28mself\u001B[39m):\n\u001B[0;32m    813\u001B[0m   \u001B[38;5;28;01mtry\u001B[39;00m:\n\u001B[1;32m--> 814\u001B[0m     \u001B[38;5;28;01mreturn\u001B[39;00m \u001B[38;5;28mself\u001B[39m\u001B[38;5;241m.\u001B[39m_next_internal()\n\u001B[0;32m    815\u001B[0m   \u001B[38;5;28;01mexcept\u001B[39;00m errors\u001B[38;5;241m.\u001B[39mOutOfRangeError:\n\u001B[0;32m    816\u001B[0m     \u001B[38;5;28;01mraise\u001B[39;00m \u001B[38;5;167;01mStopIteration\u001B[39;00m\n",
      "File \u001B[1;32m~\\anaconda3\\envs\\POKEDEX_CNN\\Lib\\site-packages\\tensorflow\\python\\data\\ops\\iterator_ops.py:777\u001B[0m, in \u001B[0;36mOwnedIterator._next_internal\u001B[1;34m(self)\u001B[0m\n\u001B[0;32m    774\u001B[0m \u001B[38;5;66;03m# TODO(b/77291417): This runs in sync mode as iterators use an error status\u001B[39;00m\n\u001B[0;32m    775\u001B[0m \u001B[38;5;66;03m# to communicate that there is no more data to iterate over.\u001B[39;00m\n\u001B[0;32m    776\u001B[0m \u001B[38;5;28;01mwith\u001B[39;00m context\u001B[38;5;241m.\u001B[39mexecution_mode(context\u001B[38;5;241m.\u001B[39mSYNC):\n\u001B[1;32m--> 777\u001B[0m   ret \u001B[38;5;241m=\u001B[39m gen_dataset_ops\u001B[38;5;241m.\u001B[39miterator_get_next(\n\u001B[0;32m    778\u001B[0m       \u001B[38;5;28mself\u001B[39m\u001B[38;5;241m.\u001B[39m_iterator_resource,\n\u001B[0;32m    779\u001B[0m       output_types\u001B[38;5;241m=\u001B[39m\u001B[38;5;28mself\u001B[39m\u001B[38;5;241m.\u001B[39m_flat_output_types,\n\u001B[0;32m    780\u001B[0m       output_shapes\u001B[38;5;241m=\u001B[39m\u001B[38;5;28mself\u001B[39m\u001B[38;5;241m.\u001B[39m_flat_output_shapes)\n\u001B[0;32m    782\u001B[0m   \u001B[38;5;28;01mtry\u001B[39;00m:\n\u001B[0;32m    783\u001B[0m     \u001B[38;5;66;03m# Fast path for the case `self._structure` is not a nested structure.\u001B[39;00m\n\u001B[0;32m    784\u001B[0m     \u001B[38;5;28;01mreturn\u001B[39;00m \u001B[38;5;28mself\u001B[39m\u001B[38;5;241m.\u001B[39m_element_spec\u001B[38;5;241m.\u001B[39m_from_compatible_tensor_list(ret)  \u001B[38;5;66;03m# pylint: disable=protected-access\u001B[39;00m\n",
      "File \u001B[1;32m~\\anaconda3\\envs\\POKEDEX_CNN\\Lib\\site-packages\\tensorflow\\python\\ops\\gen_dataset_ops.py:3055\u001B[0m, in \u001B[0;36miterator_get_next\u001B[1;34m(iterator, output_types, output_shapes, name)\u001B[0m\n\u001B[0;32m   3053\u001B[0m   \u001B[38;5;28;01mreturn\u001B[39;00m _result\n\u001B[0;32m   3054\u001B[0m \u001B[38;5;28;01mexcept\u001B[39;00m _core\u001B[38;5;241m.\u001B[39m_NotOkStatusException \u001B[38;5;28;01mas\u001B[39;00m e:\n\u001B[1;32m-> 3055\u001B[0m   _ops\u001B[38;5;241m.\u001B[39mraise_from_not_ok_status(e, name)\n\u001B[0;32m   3056\u001B[0m \u001B[38;5;28;01mexcept\u001B[39;00m _core\u001B[38;5;241m.\u001B[39m_FallbackException:\n\u001B[0;32m   3057\u001B[0m   \u001B[38;5;28;01mpass\u001B[39;00m\n",
      "File \u001B[1;32m~\\anaconda3\\envs\\POKEDEX_CNN\\Lib\\site-packages\\tensorflow\\python\\framework\\ops.py:6656\u001B[0m, in \u001B[0;36mraise_from_not_ok_status\u001B[1;34m(e, name)\u001B[0m\n\u001B[0;32m   6654\u001B[0m \u001B[38;5;28;01mdef\u001B[39;00m \u001B[38;5;21mraise_from_not_ok_status\u001B[39m(e, name):\n\u001B[0;32m   6655\u001B[0m   e\u001B[38;5;241m.\u001B[39mmessage \u001B[38;5;241m+\u001B[39m\u001B[38;5;241m=\u001B[39m (\u001B[38;5;124m\"\u001B[39m\u001B[38;5;124m name: \u001B[39m\u001B[38;5;124m\"\u001B[39m \u001B[38;5;241m+\u001B[39m \u001B[38;5;28mstr\u001B[39m(name \u001B[38;5;28;01mif\u001B[39;00m name \u001B[38;5;129;01mis\u001B[39;00m \u001B[38;5;129;01mnot\u001B[39;00m \u001B[38;5;28;01mNone\u001B[39;00m \u001B[38;5;28;01melse\u001B[39;00m \u001B[38;5;124m\"\u001B[39m\u001B[38;5;124m\"\u001B[39m))\n\u001B[1;32m-> 6656\u001B[0m   \u001B[38;5;28;01mraise\u001B[39;00m core\u001B[38;5;241m.\u001B[39m_status_to_exception(e) \u001B[38;5;28;01mfrom\u001B[39;00m \u001B[38;5;28;01mNone\u001B[39;00m\n",
      "\u001B[1;31mInvalidArgumentError\u001B[0m: {{function_node __wrapped__IteratorGetNext_output_types_2_device_/job:localhost/replica:0/task:0/device:CPU:0}} Cannot batch tensors with different shapes in component 1. First element had shape [1] and element 10 had shape [2]. [Op:IteratorGetNext] name: "
     ]
    }
   ],
   "source": [
    "dataset_size=0\n",
    "for element in dataset.as_numpy_iterator():\n",
    "    dataset_size+=1"
   ],
   "metadata": {
    "collapsed": false,
    "ExecuteTime": {
     "end_time": "2024-03-02T16:21:11.543368Z",
     "start_time": "2024-03-02T16:21:10.559988Z"
    }
   },
   "id": "c1a9eb56beca0439",
   "execution_count": 261
  },
  {
   "cell_type": "code",
   "outputs": [
    {
     "name": "stdout",
     "output_type": "stream",
     "text": [
      "dataset size: 10667\n"
     ]
    }
   ],
   "source": [
    "print(f\"dataset size: {dataset_size}\")"
   ],
   "metadata": {
    "collapsed": false,
    "ExecuteTime": {
     "end_time": "2024-03-02T15:28:56.138228Z",
     "start_time": "2024-03-02T15:28:56.134142Z"
    }
   },
   "id": "b821a4419db8ba92",
   "execution_count": 232
  },
  {
   "cell_type": "code",
   "outputs": [],
   "source": [
    "'''\n",
    "Test and training data\n",
    "'''\n",
    "shuffled_dataset=dataset.shuffle(buffer_size=dataset_size,seed=69) \n",
    "\n",
    "train_size=int(0.8*dataset_size)\n",
    "test_size=dataset_size-train_size\n",
    "train_ds=shuffled_dataset.take(train_size)\n",
    "test_ds=shuffled_dataset.skip(train_size)"
   ],
   "metadata": {
    "collapsed": false,
    "ExecuteTime": {
     "end_time": "2024-03-02T15:28:56.146305Z",
     "start_time": "2024-03-02T15:28:56.139611Z"
    }
   },
   "id": "162b7b9067c08140",
   "execution_count": 233
  },
  {
   "cell_type": "code",
   "outputs": [],
   "source": [
    "pokemon_types_len=len(os.listdir(dataset_dir))"
   ],
   "metadata": {
    "collapsed": false,
    "ExecuteTime": {
     "end_time": "2024-03-02T15:37:41.075699Z",
     "start_time": "2024-03-02T15:37:41.071848Z"
    }
   },
   "id": "5c8a4c4079bd3f28",
   "execution_count": 234
  },
  {
   "cell_type": "code",
   "outputs": [
    {
     "data": {
      "text/plain": "17"
     },
     "execution_count": 235,
     "metadata": {},
     "output_type": "execute_result"
    }
   ],
   "source": [
    "pokemon_types_len"
   ],
   "metadata": {
    "collapsed": false,
    "ExecuteTime": {
     "end_time": "2024-03-02T15:37:44.976206Z",
     "start_time": "2024-03-02T15:37:44.970987Z"
    }
   },
   "id": "233a712960b2b480",
   "execution_count": 235
  },
  {
   "cell_type": "code",
   "outputs": [],
   "source": [
    "batch_size=32\n",
    "steps_per_epoch=tf.math.ceil(train_size/batch_size)"
   ],
   "metadata": {
    "collapsed": false,
    "ExecuteTime": {
     "end_time": "2024-03-02T15:50:27.367168Z",
     "start_time": "2024-03-02T15:50:27.360308Z"
    }
   },
   "id": "267c8f3e6ac41ce5",
   "execution_count": 249
  },
  {
   "cell_type": "code",
   "outputs": [],
   "source": [
    "class MyCallback(tf.keras.callbacks.Callback):\n",
    "    def on_epoch_end(self, epoch, logs={}):\n",
    "        if logs.get('accuracy')>=0.99:\n",
    "            print('Test accuracy: %.2f%%' % (logs.get('accuracy')*100))\n",
    "            self.model.stop_training = True\n",
    "\n",
    "            "
   ],
   "metadata": {
    "collapsed": false,
    "ExecuteTime": {
     "end_time": "2024-03-02T15:43:59.500864Z",
     "start_time": "2024-03-02T15:43:59.496804Z"
    }
   },
   "id": "638ccd8603b67df1",
   "execution_count": 238
  },
  {
   "cell_type": "code",
   "outputs": [],
   "source": [
    "#MODEL BUILDING\n",
    "\n",
    "def get_model():\n",
    "    inputs=tf.keras.layers.Input(shape=(256,256,3))\n",
    "    output=tf.keras.layers.Conv2D(32,(3,3),activation=\"relu\")(inputs)\n",
    "    output=tf.keras.layers.MaxPooling2D(pool_size=(2,2))(output)\n",
    "    output=tf.keras.layers.Conv2D(64,(3,3),activation=\"relu\")(output)\n",
    "    output=tf.keras.layers.MaxPooling2D(pool_size=(2,2))(output)\n",
    "    output=tf.keras.layers.Flatten()(output)\n",
    "    output=tf.keras.layers.Dense(128,activation=\"relu\")(output)\n",
    "    output=tf.keras.layers.Dense(64,activation=\"relu\")(output)\n",
    "    output=tf.keras.layers.Dense(pokemon_types_len,activation=\"sigmoid\")(output)\n",
    "    model=tf.keras.models.Model(inputs=inputs, outputs=output)\n",
    "    model.compile(optimizer='adam',loss=tf.keras.losses.BinaryCrossentropy(),metrics=['accuracy'])\n",
    "    return model"
   ],
   "metadata": {
    "collapsed": false,
    "ExecuteTime": {
     "end_time": "2024-03-02T15:46:11.279679Z",
     "start_time": "2024-03-02T15:46:11.273843Z"
    }
   },
   "id": "5bbc85578d31",
   "execution_count": 246
  },
  {
   "cell_type": "code",
   "outputs": [],
   "source": [
    "my_callback=MyCallback()\n",
    "model=get_model()"
   ],
   "metadata": {
    "collapsed": false,
    "ExecuteTime": {
     "end_time": "2024-03-02T15:46:11.940096Z",
     "start_time": "2024-03-02T15:46:11.762599Z"
    }
   },
   "id": "eb3f0b2158b7cf40",
   "execution_count": 247
  },
  {
   "cell_type": "code",
   "outputs": [
    {
     "name": "stdout",
     "output_type": "stream",
     "text": [
      "Model: \"model_3\"\n",
      "_________________________________________________________________\n",
      " Layer (type)                Output Shape              Param #   \n",
      "=================================================================\n",
      " input_4 (InputLayer)        [(None, 256, 256, 3)]     0         \n",
      "                                                                 \n",
      " conv2d_6 (Conv2D)           (None, 254, 254, 32)      896       \n",
      "                                                                 \n",
      " max_pooling2d_6 (MaxPoolin  (None, 127, 127, 32)      0         \n",
      " g2D)                                                            \n",
      "                                                                 \n",
      " conv2d_7 (Conv2D)           (None, 125, 125, 64)      18496     \n",
      "                                                                 \n",
      " max_pooling2d_7 (MaxPoolin  (None, 62, 62, 64)        0         \n",
      " g2D)                                                            \n",
      "                                                                 \n",
      " flatten_3 (Flatten)         (None, 246016)            0         \n",
      "                                                                 \n",
      " dense_9 (Dense)             (None, 128)               31490176  \n",
      "                                                                 \n",
      " dense_10 (Dense)            (None, 64)                8256      \n",
      "                                                                 \n",
      " dense_11 (Dense)            (None, 17)                1105      \n",
      "                                                                 \n",
      "=================================================================\n",
      "Total params: 31518929 (120.24 MB)\n",
      "Trainable params: 31518929 (120.24 MB)\n",
      "Non-trainable params: 0 (0.00 Byte)\n",
      "_________________________________________________________________\n"
     ]
    }
   ],
   "source": [
    "model.summary()"
   ],
   "metadata": {
    "collapsed": false,
    "ExecuteTime": {
     "end_time": "2024-03-02T15:52:47.780634Z",
     "start_time": "2024-03-02T15:52:47.756799Z"
    }
   },
   "id": "55bf0e7dc9af80eb",
   "execution_count": 252
  },
  {
   "cell_type": "code",
   "outputs": [
    {
     "name": "stdout",
     "output_type": "stream",
     "text": [
      "Epoch 1/10\n"
     ]
    },
    {
     "ename": "ValueError",
     "evalue": "in user code:\n\n    File \"C:\\Users\\dhanu\\anaconda3\\envs\\POKEDEX_CNN\\Lib\\site-packages\\keras\\src\\engine\\training.py\", line 1338, in train_function  *\n        return step_function(self, iterator)\n    File \"C:\\Users\\dhanu\\anaconda3\\envs\\POKEDEX_CNN\\Lib\\site-packages\\keras\\src\\engine\\training.py\", line 1322, in step_function  **\n        outputs = model.distribute_strategy.run(run_step, args=(data,))\n    File \"C:\\Users\\dhanu\\anaconda3\\envs\\POKEDEX_CNN\\Lib\\site-packages\\keras\\src\\engine\\training.py\", line 1303, in run_step  **\n        outputs = model.train_step(data)\n    File \"C:\\Users\\dhanu\\anaconda3\\envs\\POKEDEX_CNN\\Lib\\site-packages\\keras\\src\\engine\\training.py\", line 1080, in train_step\n        y_pred = self(x, training=True)\n    File \"C:\\Users\\dhanu\\anaconda3\\envs\\POKEDEX_CNN\\Lib\\site-packages\\keras\\src\\utils\\traceback_utils.py\", line 70, in error_handler\n        raise e.with_traceback(filtered_tb) from None\n    File \"C:\\Users\\dhanu\\anaconda3\\envs\\POKEDEX_CNN\\Lib\\site-packages\\keras\\src\\engine\\input_spec.py\", line 298, in assert_input_compatibility\n        raise ValueError(\n\n    ValueError: Input 0 of layer \"model_3\" is incompatible with the layer: expected shape=(None, 256, 256, 3), found shape=(256, 256, 3)\n",
     "output_type": "error",
     "traceback": [
      "\u001B[1;31m---------------------------------------------------------------------------\u001B[0m",
      "\u001B[1;31mValueError\u001B[0m                                Traceback (most recent call last)",
      "Cell \u001B[1;32mIn[251], line 1\u001B[0m\n\u001B[1;32m----> 1\u001B[0m model\u001B[38;5;241m.\u001B[39mfit(x\u001B[38;5;241m=\u001B[39mtrain_ds,validation_data\u001B[38;5;241m=\u001B[39mtest_ds,epochs\u001B[38;5;241m=\u001B[39m\u001B[38;5;241m10\u001B[39m,callbacks\u001B[38;5;241m=\u001B[39m[my_callback])\n",
      "File \u001B[1;32m~\\anaconda3\\envs\\POKEDEX_CNN\\Lib\\site-packages\\keras\\src\\utils\\traceback_utils.py:70\u001B[0m, in \u001B[0;36mfilter_traceback.<locals>.error_handler\u001B[1;34m(*args, **kwargs)\u001B[0m\n\u001B[0;32m     67\u001B[0m     filtered_tb \u001B[38;5;241m=\u001B[39m _process_traceback_frames(e\u001B[38;5;241m.\u001B[39m__traceback__)\n\u001B[0;32m     68\u001B[0m     \u001B[38;5;66;03m# To get the full stack trace, call:\u001B[39;00m\n\u001B[0;32m     69\u001B[0m     \u001B[38;5;66;03m# `tf.debugging.disable_traceback_filtering()`\u001B[39;00m\n\u001B[1;32m---> 70\u001B[0m     \u001B[38;5;28;01mraise\u001B[39;00m e\u001B[38;5;241m.\u001B[39mwith_traceback(filtered_tb) \u001B[38;5;28;01mfrom\u001B[39;00m \u001B[38;5;28;01mNone\u001B[39;00m\n\u001B[0;32m     71\u001B[0m \u001B[38;5;28;01mfinally\u001B[39;00m:\n\u001B[0;32m     72\u001B[0m     \u001B[38;5;28;01mdel\u001B[39;00m filtered_tb\n",
      "File \u001B[1;32m~\\AppData\\Local\\Temp\\__autograph_generated_filee5_urmvu.py:15\u001B[0m, in \u001B[0;36mouter_factory.<locals>.inner_factory.<locals>.tf__train_function\u001B[1;34m(iterator)\u001B[0m\n\u001B[0;32m     13\u001B[0m \u001B[38;5;28;01mtry\u001B[39;00m:\n\u001B[0;32m     14\u001B[0m     do_return \u001B[38;5;241m=\u001B[39m \u001B[38;5;28;01mTrue\u001B[39;00m\n\u001B[1;32m---> 15\u001B[0m     retval_ \u001B[38;5;241m=\u001B[39m ag__\u001B[38;5;241m.\u001B[39mconverted_call(ag__\u001B[38;5;241m.\u001B[39mld(step_function), (ag__\u001B[38;5;241m.\u001B[39mld(\u001B[38;5;28mself\u001B[39m), ag__\u001B[38;5;241m.\u001B[39mld(iterator)), \u001B[38;5;28;01mNone\u001B[39;00m, fscope)\n\u001B[0;32m     16\u001B[0m \u001B[38;5;28;01mexcept\u001B[39;00m:\n\u001B[0;32m     17\u001B[0m     do_return \u001B[38;5;241m=\u001B[39m \u001B[38;5;28;01mFalse\u001B[39;00m\n",
      "\u001B[1;31mValueError\u001B[0m: in user code:\n\n    File \"C:\\Users\\dhanu\\anaconda3\\envs\\POKEDEX_CNN\\Lib\\site-packages\\keras\\src\\engine\\training.py\", line 1338, in train_function  *\n        return step_function(self, iterator)\n    File \"C:\\Users\\dhanu\\anaconda3\\envs\\POKEDEX_CNN\\Lib\\site-packages\\keras\\src\\engine\\training.py\", line 1322, in step_function  **\n        outputs = model.distribute_strategy.run(run_step, args=(data,))\n    File \"C:\\Users\\dhanu\\anaconda3\\envs\\POKEDEX_CNN\\Lib\\site-packages\\keras\\src\\engine\\training.py\", line 1303, in run_step  **\n        outputs = model.train_step(data)\n    File \"C:\\Users\\dhanu\\anaconda3\\envs\\POKEDEX_CNN\\Lib\\site-packages\\keras\\src\\engine\\training.py\", line 1080, in train_step\n        y_pred = self(x, training=True)\n    File \"C:\\Users\\dhanu\\anaconda3\\envs\\POKEDEX_CNN\\Lib\\site-packages\\keras\\src\\utils\\traceback_utils.py\", line 70, in error_handler\n        raise e.with_traceback(filtered_tb) from None\n    File \"C:\\Users\\dhanu\\anaconda3\\envs\\POKEDEX_CNN\\Lib\\site-packages\\keras\\src\\engine\\input_spec.py\", line 298, in assert_input_compatibility\n        raise ValueError(\n\n    ValueError: Input 0 of layer \"model_3\" is incompatible with the layer: expected shape=(None, 256, 256, 3), found shape=(256, 256, 3)\n"
     ]
    }
   ],
   "source": [
    "model.fit(x=train_ds,validation_data=test_ds,epochs=10,callbacks=[my_callback],batch_size=batch_size,use_multiprocessing=True,steps_per_epoch=steps_per_epoch)"
   ],
   "metadata": {
    "collapsed": false,
    "ExecuteTime": {
     "end_time": "2024-03-02T15:52:12.837254Z",
     "start_time": "2024-03-02T15:52:12.784719Z"
    }
   },
   "id": "7fbbbfdd9e4c56c5",
   "execution_count": 251
  },
  {
   "cell_type": "code",
   "outputs": [
    {
     "name": "stdout",
     "output_type": "stream",
     "text": [
      "0 []\n",
      "1 [1]\n",
      "2 [2, 2]\n",
      "3 [3, 3, 3]\n",
      "4 [4, 4, 4, 4]\n"
     ]
    }
   ],
   "source": [
    "def gen():\n",
    "    for i in range(5):\n",
    "        yield [i]*i\n",
    "\n",
    "for i,x in enumerate(gen()):\n",
    "    print(i,x)"
   ],
   "metadata": {
    "collapsed": false,
    "ExecuteTime": {
     "end_time": "2024-03-02T16:28:10.714598Z",
     "start_time": "2024-03-02T16:28:10.710764Z"
    }
   },
   "id": "35c5d6f079be20c6",
   "execution_count": 264
  },
  {
   "cell_type": "code",
   "outputs": [],
   "source": [
    "buff=[1]+[2]"
   ],
   "metadata": {
    "collapsed": false,
    "ExecuteTime": {
     "end_time": "2024-03-02T16:31:05.786164Z",
     "start_time": "2024-03-02T16:31:05.783172Z"
    }
   },
   "id": "7fffcad954f28f65",
   "execution_count": 266
  },
  {
   "cell_type": "code",
   "outputs": [
    {
     "data": {
      "text/plain": "(2,)"
     },
     "execution_count": 268,
     "metadata": {},
     "output_type": "execute_result"
    }
   ],
   "source": [
    "arr=np.asarray([2,2])\n",
    "arr.shape"
   ],
   "metadata": {
    "collapsed": false,
    "ExecuteTime": {
     "end_time": "2024-03-02T16:36:14.542947Z",
     "start_time": "2024-03-02T16:36:14.538478Z"
    }
   },
   "id": "a5a8a33c564277b9",
   "execution_count": 268
  },
  {
   "cell_type": "code",
   "outputs": [
    {
     "ename": "ValueError",
     "evalue": "zero-dimensional arrays cannot be concatenated",
     "output_type": "error",
     "traceback": [
      "\u001B[1;31m---------------------------------------------------------------------------\u001B[0m",
      "\u001B[1;31mValueError\u001B[0m                                Traceback (most recent call last)",
      "Cell \u001B[1;32mIn[269], line 1\u001B[0m\n\u001B[1;32m----> 1\u001B[0m np\u001B[38;5;241m.\u001B[39mconcatenate(arr)\n",
      "\u001B[1;31mValueError\u001B[0m: zero-dimensional arrays cannot be concatenated"
     ]
    }
   ],
   "source": [
    "np.concatenate(arr)"
   ],
   "metadata": {
    "collapsed": false,
    "ExecuteTime": {
     "end_time": "2024-03-02T16:36:25.919470Z",
     "start_time": "2024-03-02T16:36:25.901633Z"
    }
   },
   "id": "1633a3ba762e59dd",
   "execution_count": 269
  },
  {
   "cell_type": "code",
   "outputs": [],
   "source": [
    "buff+=[3,3,3]"
   ],
   "metadata": {
    "collapsed": false,
    "ExecuteTime": {
     "end_time": "2024-03-02T16:37:10.047002Z",
     "start_time": "2024-03-02T16:37:10.043740Z"
    }
   },
   "id": "44ced60e574c4183",
   "execution_count": 270
  },
  {
   "cell_type": "code",
   "outputs": [
    {
     "data": {
      "text/plain": "[1, 2, 3, 3, 3]"
     },
     "execution_count": 271,
     "metadata": {},
     "output_type": "execute_result"
    }
   ],
   "source": [
    "buff"
   ],
   "metadata": {
    "collapsed": false,
    "ExecuteTime": {
     "end_time": "2024-03-02T16:37:11.962800Z",
     "start_time": "2024-03-02T16:37:11.958600Z"
    }
   },
   "id": "fbe6b8e67438eb78",
   "execution_count": 271
  },
  {
   "cell_type": "code",
   "outputs": [],
   "source": [],
   "metadata": {
    "collapsed": false
   },
   "id": "7a4d6ad0222eab56"
  }
 ],
 "metadata": {
  "kernelspec": {
   "display_name": "Python 3",
   "language": "python",
   "name": "python3"
  },
  "language_info": {
   "codemirror_mode": {
    "name": "ipython",
    "version": 2
   },
   "file_extension": ".py",
   "mimetype": "text/x-python",
   "name": "python",
   "nbconvert_exporter": "python",
   "pygments_lexer": "ipython2",
   "version": "2.7.6"
  }
 },
 "nbformat": 4,
 "nbformat_minor": 5
}
