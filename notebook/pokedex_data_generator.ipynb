{
 "cells": [
  {
   "cell_type": "code",
   "execution_count": 51,
   "id": "initial_id",
   "metadata": {
    "collapsed": true,
    "ExecuteTime": {
     "end_time": "2024-03-01T15:24:07.387512Z",
     "start_time": "2024-03-01T15:24:07.383742Z"
    }
   },
   "outputs": [],
   "source": [
    "import pandas as pd\n",
    "import numpy as np\n",
    "import tensorflow as tf\n",
    "import os\n",
    "import json\n",
    "import shutil"
   ]
  },
  {
   "cell_type": "code",
   "outputs": [],
   "source": [
    "pokemon_dataset_dir=\"../dataset/pokemon_dataset\"\n",
    "pokemon_json=\"../json/pokedex.json\""
   ],
   "metadata": {
    "collapsed": false,
    "ExecuteTime": {
     "end_time": "2024-03-01T14:12:27.422912Z",
     "start_time": "2024-03-01T14:12:27.419467Z"
    }
   },
   "id": "a178a2f6a2257cbe",
   "execution_count": 2
  },
  {
   "cell_type": "code",
   "outputs": [],
   "source": [
    "new_dataset_dir=\"../new_dataset\""
   ],
   "metadata": {
    "collapsed": false,
    "ExecuteTime": {
     "end_time": "2024-03-01T15:20:40.957512Z",
     "start_time": "2024-03-01T15:20:40.954371Z"
    }
   },
   "id": "f65dd3c80ea2ab6a",
   "execution_count": 46
  },
  {
   "cell_type": "code",
   "outputs": [],
   "source": [],
   "metadata": {
    "collapsed": false,
    "ExecuteTime": {
     "end_time": "2024-03-01T14:12:27.433163Z",
     "start_time": "2024-03-01T14:12:27.429587Z"
    }
   },
   "id": "f11fecec720a586c",
   "execution_count": 2
  },
  {
   "cell_type": "code",
   "outputs": [],
   "source": [
    "def find_pokemon(pokemon_name:str,json_dir:str):\n",
    "    pokemon_details={}\n",
    "    pokemon_json=json.load(open(json_dir,\"r\",encoding=\"utf8\"))\n",
    "    for pokemon in pokemon_json:\n",
    "        if pokemon[\"name\"][\"english\"]==pokemon_name:\n",
    "            pokemon_details={\n",
    "                \"pokemon_id\":pokemon[\"id\"],\n",
    "                \"name\":pokemon[\"name\"][\"english\"],\n",
    "                \"type\":pokemon[\"type\"],\n",
    "            }\n",
    "    \n",
    "    return pokemon_details\n",
    "    "
   ],
   "metadata": {
    "collapsed": false,
    "ExecuteTime": {
     "end_time": "2024-03-01T14:12:27.441581Z",
     "start_time": "2024-03-01T14:12:27.434684Z"
    }
   },
   "id": "2070dc839225c191",
   "execution_count": 3
  },
  {
   "cell_type": "code",
   "outputs": [
    {
     "data": {
      "text/plain": "{'pokemon_id': 63, 'name': 'Abra', 'type': ['Psychic']}"
     },
     "execution_count": 4,
     "metadata": {},
     "output_type": "execute_result"
    }
   ],
   "source": [
    "find_pokemon(\"Abra\",pokemon_json)"
   ],
   "metadata": {
    "collapsed": false,
    "ExecuteTime": {
     "end_time": "2024-03-01T14:12:27.584926Z",
     "start_time": "2024-03-01T14:12:27.443850Z"
    }
   },
   "id": "e9e8ae14d07bd86d",
   "execution_count": 4
  },
  {
   "cell_type": "code",
   "outputs": [
    {
     "name": "stdout",
     "output_type": "stream",
     "text": [
      "Abra\n",
      "{'pokemon_id': 63, 'name': 'Abra', 'type': ['Psychic']}\n",
      "Aerodactyl\n",
      "{'pokemon_id': 142, 'name': 'Aerodactyl', 'type': ['Rock', 'Flying']}\n",
      "Alakazam\n",
      "{'pokemon_id': 65, 'name': 'Alakazam', 'type': ['Psychic']}\n",
      "Arbok\n",
      "{'pokemon_id': 24, 'name': 'Arbok', 'type': ['Poison']}\n",
      "Arcanine\n",
      "{'pokemon_id': 59, 'name': 'Arcanine', 'type': ['Fire']}\n",
      "Articuno\n",
      "{'pokemon_id': 144, 'name': 'Articuno', 'type': ['Ice', 'Flying']}\n",
      "Beedrill\n",
      "{'pokemon_id': 15, 'name': 'Beedrill', 'type': ['Bug', 'Poison']}\n",
      "Bellsprout\n",
      "{'pokemon_id': 69, 'name': 'Bellsprout', 'type': ['Grass', 'Poison']}\n",
      "Blastoise\n",
      "{'pokemon_id': 9, 'name': 'Blastoise', 'type': ['Water']}\n",
      "Bulbasaur\n",
      "{'pokemon_id': 1, 'name': 'Bulbasaur', 'type': ['Grass', 'Poison']}\n",
      "Butterfree\n",
      "{'pokemon_id': 12, 'name': 'Butterfree', 'type': ['Bug', 'Flying']}\n",
      "Caterpie\n",
      "{'pokemon_id': 10, 'name': 'Caterpie', 'type': ['Bug']}\n",
      "Chansey\n",
      "{'pokemon_id': 113, 'name': 'Chansey', 'type': ['Normal']}\n",
      "Charizard\n",
      "{'pokemon_id': 6, 'name': 'Charizard', 'type': ['Fire', 'Flying']}\n",
      "Charmander\n",
      "{'pokemon_id': 4, 'name': 'Charmander', 'type': ['Fire']}\n",
      "Charmeleon\n",
      "{'pokemon_id': 5, 'name': 'Charmeleon', 'type': ['Fire']}\n",
      "Clefable\n",
      "{'pokemon_id': 36, 'name': 'Clefable', 'type': ['Fairy']}\n",
      "Clefairy\n",
      "{'pokemon_id': 35, 'name': 'Clefairy', 'type': ['Fairy']}\n",
      "Cloyster\n",
      "{'pokemon_id': 91, 'name': 'Cloyster', 'type': ['Water', 'Ice']}\n",
      "Cubone\n",
      "{'pokemon_id': 104, 'name': 'Cubone', 'type': ['Ground']}\n",
      "Dewgong\n",
      "{'pokemon_id': 87, 'name': 'Dewgong', 'type': ['Water', 'Ice']}\n",
      "Diglett\n",
      "{'pokemon_id': 50, 'name': 'Diglett', 'type': ['Ground']}\n",
      "Ditto\n",
      "{'pokemon_id': 132, 'name': 'Ditto', 'type': ['Normal']}\n",
      "Dodrio\n",
      "{'pokemon_id': 85, 'name': 'Dodrio', 'type': ['Normal', 'Flying']}\n",
      "Doduo\n",
      "{'pokemon_id': 84, 'name': 'Doduo', 'type': ['Normal', 'Flying']}\n",
      "Dragonair\n",
      "{'pokemon_id': 148, 'name': 'Dragonair', 'type': ['Dragon']}\n",
      "Dragonite\n",
      "{'pokemon_id': 149, 'name': 'Dragonite', 'type': ['Dragon', 'Flying']}\n",
      "Dratini\n",
      "{'pokemon_id': 147, 'name': 'Dratini', 'type': ['Dragon']}\n",
      "Drowzee\n",
      "{'pokemon_id': 96, 'name': 'Drowzee', 'type': ['Psychic']}\n",
      "Dugtrio\n",
      "{'pokemon_id': 51, 'name': 'Dugtrio', 'type': ['Ground']}\n",
      "Eevee\n",
      "{'pokemon_id': 133, 'name': 'Eevee', 'type': ['Normal']}\n",
      "Ekans\n",
      "{'pokemon_id': 23, 'name': 'Ekans', 'type': ['Poison']}\n",
      "Electabuzz\n",
      "{'pokemon_id': 125, 'name': 'Electabuzz', 'type': ['Electric']}\n",
      "Electrode\n",
      "{'pokemon_id': 101, 'name': 'Electrode', 'type': ['Electric']}\n",
      "Exeggcute\n",
      "{'pokemon_id': 102, 'name': 'Exeggcute', 'type': ['Grass', 'Psychic']}\n",
      "Exeggutor\n",
      "{'pokemon_id': 103, 'name': 'Exeggutor', 'type': ['Grass', 'Psychic']}\n",
      "Farfetch'd\n",
      "{'pokemon_id': 83, 'name': \"Farfetch'd\", 'type': ['Normal', 'Flying']}\n",
      "Fearow\n",
      "{'pokemon_id': 22, 'name': 'Fearow', 'type': ['Normal', 'Flying']}\n",
      "Flareon\n",
      "{'pokemon_id': 136, 'name': 'Flareon', 'type': ['Fire']}\n",
      "Gastly\n",
      "{'pokemon_id': 92, 'name': 'Gastly', 'type': ['Ghost', 'Poison']}\n",
      "Gengar\n",
      "{'pokemon_id': 94, 'name': 'Gengar', 'type': ['Ghost', 'Poison']}\n",
      "Geodude\n",
      "{'pokemon_id': 74, 'name': 'Geodude', 'type': ['Rock', 'Ground']}\n",
      "Gloom\n",
      "{'pokemon_id': 44, 'name': 'Gloom', 'type': ['Grass', 'Poison']}\n",
      "Golbat\n",
      "{'pokemon_id': 42, 'name': 'Golbat', 'type': ['Poison', 'Flying']}\n",
      "Goldeen\n",
      "{'pokemon_id': 118, 'name': 'Goldeen', 'type': ['Water']}\n",
      "Golduck\n",
      "{'pokemon_id': 55, 'name': 'Golduck', 'type': ['Water']}\n",
      "Golem\n",
      "{'pokemon_id': 76, 'name': 'Golem', 'type': ['Rock', 'Ground']}\n",
      "Graveler\n",
      "{'pokemon_id': 75, 'name': 'Graveler', 'type': ['Rock', 'Ground']}\n",
      "Grimer\n",
      "{'pokemon_id': 88, 'name': 'Grimer', 'type': ['Poison']}\n",
      "Growlithe\n",
      "{'pokemon_id': 58, 'name': 'Growlithe', 'type': ['Fire']}\n",
      "Gyarados\n",
      "{'pokemon_id': 130, 'name': 'Gyarados', 'type': ['Water', 'Flying']}\n",
      "Haunter\n",
      "{'pokemon_id': 93, 'name': 'Haunter', 'type': ['Ghost', 'Poison']}\n",
      "Hitmonchan\n",
      "{'pokemon_id': 107, 'name': 'Hitmonchan', 'type': ['Fighting']}\n",
      "Hitmonlee\n",
      "{'pokemon_id': 106, 'name': 'Hitmonlee', 'type': ['Fighting']}\n",
      "Horsea\n",
      "{'pokemon_id': 116, 'name': 'Horsea', 'type': ['Water']}\n",
      "Hypno\n",
      "{'pokemon_id': 97, 'name': 'Hypno', 'type': ['Psychic']}\n",
      "Ivysaur\n",
      "{'pokemon_id': 2, 'name': 'Ivysaur', 'type': ['Grass', 'Poison']}\n",
      "Jigglypuff\n",
      "{'pokemon_id': 39, 'name': 'Jigglypuff', 'type': ['Normal', 'Fairy']}\n",
      "Jolteon\n",
      "{'pokemon_id': 135, 'name': 'Jolteon', 'type': ['Electric']}\n",
      "Jynx\n",
      "{'pokemon_id': 124, 'name': 'Jynx', 'type': ['Ice', 'Psychic']}\n",
      "Kabuto\n",
      "{'pokemon_id': 140, 'name': 'Kabuto', 'type': ['Rock', 'Water']}\n",
      "Kabutops\n",
      "{'pokemon_id': 141, 'name': 'Kabutops', 'type': ['Rock', 'Water']}\n",
      "Kadabra\n",
      "{'pokemon_id': 64, 'name': 'Kadabra', 'type': ['Psychic']}\n",
      "Kakuna\n",
      "{'pokemon_id': 14, 'name': 'Kakuna', 'type': ['Bug', 'Poison']}\n",
      "Kangaskhan\n",
      "{'pokemon_id': 115, 'name': 'Kangaskhan', 'type': ['Normal']}\n",
      "Kingler\n",
      "{'pokemon_id': 99, 'name': 'Kingler', 'type': ['Water']}\n",
      "Koffing\n",
      "{'pokemon_id': 109, 'name': 'Koffing', 'type': ['Poison']}\n",
      "Krabby\n",
      "{'pokemon_id': 98, 'name': 'Krabby', 'type': ['Water']}\n",
      "Lapras\n",
      "{'pokemon_id': 131, 'name': 'Lapras', 'type': ['Water', 'Ice']}\n",
      "Lickitung\n",
      "{'pokemon_id': 108, 'name': 'Lickitung', 'type': ['Normal']}\n",
      "Machamp\n",
      "{'pokemon_id': 68, 'name': 'Machamp', 'type': ['Fighting']}\n",
      "Machoke\n",
      "{'pokemon_id': 67, 'name': 'Machoke', 'type': ['Fighting']}\n",
      "Machop\n",
      "{'pokemon_id': 66, 'name': 'Machop', 'type': ['Fighting']}\n",
      "Magikarp\n",
      "{'pokemon_id': 129, 'name': 'Magikarp', 'type': ['Water']}\n",
      "Magmar\n",
      "{'pokemon_id': 126, 'name': 'Magmar', 'type': ['Fire']}\n",
      "Magnemite\n",
      "{'pokemon_id': 81, 'name': 'Magnemite', 'type': ['Electric', 'Steel']}\n",
      "Magneton\n",
      "{'pokemon_id': 82, 'name': 'Magneton', 'type': ['Electric', 'Steel']}\n",
      "Mankey\n",
      "{'pokemon_id': 56, 'name': 'Mankey', 'type': ['Fighting']}\n",
      "Marowak\n",
      "{'pokemon_id': 105, 'name': 'Marowak', 'type': ['Ground']}\n",
      "Meowth\n",
      "{'pokemon_id': 52, 'name': 'Meowth', 'type': ['Normal']}\n",
      "Metapod\n",
      "{'pokemon_id': 11, 'name': 'Metapod', 'type': ['Bug']}\n",
      "Mew\n",
      "{'pokemon_id': 151, 'name': 'Mew', 'type': ['Psychic']}\n",
      "Mewtwo\n",
      "{'pokemon_id': 150, 'name': 'Mewtwo', 'type': ['Psychic']}\n",
      "Moltres\n",
      "{'pokemon_id': 146, 'name': 'Moltres', 'type': ['Fire', 'Flying']}\n",
      "Mr. Mime\n",
      "{'pokemon_id': 122, 'name': 'Mr. Mime', 'type': ['Psychic', 'Fairy']}\n",
      "Muk\n",
      "{'pokemon_id': 89, 'name': 'Muk', 'type': ['Poison']}\n",
      "Nidoking\n",
      "{'pokemon_id': 34, 'name': 'Nidoking', 'type': ['Poison', 'Ground']}\n",
      "Nidoqueen\n",
      "{'pokemon_id': 31, 'name': 'Nidoqueen', 'type': ['Poison', 'Ground']}\n",
      "Nidorina\n",
      "{'pokemon_id': 30, 'name': 'Nidorina', 'type': ['Poison']}\n",
      "Nidorino\n",
      "{'pokemon_id': 33, 'name': 'Nidorino', 'type': ['Poison']}\n",
      "Ninetales\n",
      "{'pokemon_id': 38, 'name': 'Ninetales', 'type': ['Fire']}\n",
      "Oddish\n",
      "{'pokemon_id': 43, 'name': 'Oddish', 'type': ['Grass', 'Poison']}\n",
      "Omanyte\n",
      "{'pokemon_id': 138, 'name': 'Omanyte', 'type': ['Rock', 'Water']}\n",
      "Omastar\n",
      "{'pokemon_id': 139, 'name': 'Omastar', 'type': ['Rock', 'Water']}\n",
      "Onix\n",
      "{'pokemon_id': 95, 'name': 'Onix', 'type': ['Rock', 'Ground']}\n",
      "Paras\n",
      "{'pokemon_id': 46, 'name': 'Paras', 'type': ['Bug', 'Grass']}\n",
      "Parasect\n",
      "{'pokemon_id': 47, 'name': 'Parasect', 'type': ['Bug', 'Grass']}\n",
      "Persian\n",
      "{'pokemon_id': 53, 'name': 'Persian', 'type': ['Normal']}\n",
      "Pidgeot\n",
      "{'pokemon_id': 18, 'name': 'Pidgeot', 'type': ['Normal', 'Flying']}\n",
      "Pidgeotto\n",
      "{'pokemon_id': 17, 'name': 'Pidgeotto', 'type': ['Normal', 'Flying']}\n",
      "Pidgey\n",
      "{'pokemon_id': 16, 'name': 'Pidgey', 'type': ['Normal', 'Flying']}\n",
      "Pikachu\n",
      "{'pokemon_id': 25, 'name': 'Pikachu', 'type': ['Electric']}\n",
      "Pinsir\n",
      "{'pokemon_id': 127, 'name': 'Pinsir', 'type': ['Bug']}\n",
      "Poliwag\n",
      "{'pokemon_id': 60, 'name': 'Poliwag', 'type': ['Water']}\n",
      "Poliwhirl\n",
      "{'pokemon_id': 61, 'name': 'Poliwhirl', 'type': ['Water']}\n",
      "Poliwrath\n",
      "{'pokemon_id': 62, 'name': 'Poliwrath', 'type': ['Water', 'Fighting']}\n",
      "Ponyta\n",
      "{'pokemon_id': 77, 'name': 'Ponyta', 'type': ['Fire']}\n",
      "Porygon\n",
      "{'pokemon_id': 137, 'name': 'Porygon', 'type': ['Normal']}\n",
      "Primeape\n",
      "{'pokemon_id': 57, 'name': 'Primeape', 'type': ['Fighting']}\n",
      "Psyduck\n",
      "{'pokemon_id': 54, 'name': 'Psyduck', 'type': ['Water']}\n",
      "Raichu\n",
      "{'pokemon_id': 26, 'name': 'Raichu', 'type': ['Electric']}\n",
      "Rapidash\n",
      "{'pokemon_id': 78, 'name': 'Rapidash', 'type': ['Fire']}\n",
      "Raticate\n",
      "{'pokemon_id': 20, 'name': 'Raticate', 'type': ['Normal']}\n",
      "Rattata\n",
      "{'pokemon_id': 19, 'name': 'Rattata', 'type': ['Normal']}\n",
      "Rhydon\n",
      "{'pokemon_id': 112, 'name': 'Rhydon', 'type': ['Ground', 'Rock']}\n",
      "Rhyhorn\n",
      "{'pokemon_id': 111, 'name': 'Rhyhorn', 'type': ['Ground', 'Rock']}\n",
      "Sandshrew\n",
      "{'pokemon_id': 27, 'name': 'Sandshrew', 'type': ['Ground']}\n",
      "Sandslash\n",
      "{'pokemon_id': 28, 'name': 'Sandslash', 'type': ['Ground']}\n",
      "Scyther\n",
      "{'pokemon_id': 123, 'name': 'Scyther', 'type': ['Bug', 'Flying']}\n",
      "Seadra\n",
      "{'pokemon_id': 117, 'name': 'Seadra', 'type': ['Water']}\n",
      "Seaking\n",
      "{'pokemon_id': 119, 'name': 'Seaking', 'type': ['Water']}\n",
      "Seel\n",
      "{'pokemon_id': 86, 'name': 'Seel', 'type': ['Water']}\n",
      "Shellder\n",
      "{'pokemon_id': 90, 'name': 'Shellder', 'type': ['Water']}\n",
      "Slowbro\n",
      "{'pokemon_id': 80, 'name': 'Slowbro', 'type': ['Water', 'Psychic']}\n",
      "Slowpoke\n",
      "{'pokemon_id': 79, 'name': 'Slowpoke', 'type': ['Water', 'Psychic']}\n",
      "Snorlax\n",
      "{'pokemon_id': 143, 'name': 'Snorlax', 'type': ['Normal']}\n",
      "Spearow\n",
      "{'pokemon_id': 21, 'name': 'Spearow', 'type': ['Normal', 'Flying']}\n",
      "Squirtle\n",
      "{'pokemon_id': 7, 'name': 'Squirtle', 'type': ['Water']}\n",
      "Starmie\n",
      "{'pokemon_id': 121, 'name': 'Starmie', 'type': ['Water', 'Psychic']}\n",
      "Staryu\n",
      "{'pokemon_id': 120, 'name': 'Staryu', 'type': ['Water']}\n",
      "Tangela\n",
      "{'pokemon_id': 114, 'name': 'Tangela', 'type': ['Grass']}\n",
      "Tauros\n",
      "{'pokemon_id': 128, 'name': 'Tauros', 'type': ['Normal']}\n",
      "Tentacool\n",
      "{'pokemon_id': 72, 'name': 'Tentacool', 'type': ['Water', 'Poison']}\n",
      "Tentacruel\n",
      "{'pokemon_id': 73, 'name': 'Tentacruel', 'type': ['Water', 'Poison']}\n",
      "Vaporeon\n",
      "{'pokemon_id': 134, 'name': 'Vaporeon', 'type': ['Water']}\n",
      "Venomoth\n",
      "{'pokemon_id': 49, 'name': 'Venomoth', 'type': ['Bug', 'Poison']}\n",
      "Venonat\n",
      "{'pokemon_id': 48, 'name': 'Venonat', 'type': ['Bug', 'Poison']}\n",
      "Venusaur\n",
      "{'pokemon_id': 3, 'name': 'Venusaur', 'type': ['Grass', 'Poison']}\n",
      "Victreebel\n",
      "{'pokemon_id': 71, 'name': 'Victreebel', 'type': ['Grass', 'Poison']}\n",
      "Vileplume\n",
      "{'pokemon_id': 45, 'name': 'Vileplume', 'type': ['Grass', 'Poison']}\n",
      "Voltorb\n",
      "{'pokemon_id': 100, 'name': 'Voltorb', 'type': ['Electric']}\n",
      "Vulpix\n",
      "{'pokemon_id': 37, 'name': 'Vulpix', 'type': ['Fire']}\n",
      "Wartortle\n",
      "{'pokemon_id': 8, 'name': 'Wartortle', 'type': ['Water']}\n",
      "Weedle\n",
      "{'pokemon_id': 13, 'name': 'Weedle', 'type': ['Bug', 'Poison']}\n",
      "Weepinbell\n",
      "{'pokemon_id': 70, 'name': 'Weepinbell', 'type': ['Grass', 'Poison']}\n",
      "Weezing\n",
      "{'pokemon_id': 110, 'name': 'Weezing', 'type': ['Poison']}\n",
      "Wigglytuff\n",
      "{'pokemon_id': 40, 'name': 'Wigglytuff', 'type': ['Normal', 'Fairy']}\n",
      "Zapdos\n",
      "{'pokemon_id': 145, 'name': 'Zapdos', 'type': ['Electric', 'Flying']}\n",
      "Zubat\n",
      "{'pokemon_id': 41, 'name': 'Zubat', 'type': ['Poison', 'Flying']}\n"
     ]
    }
   ],
   "source": [
    "\n",
    "pokemon_names = os.listdir(pokemon_dataset_dir)\n",
    "pokemon_df = pd.DataFrame(columns=['name', 'pokemon_id', 'type1', 'type2', 'image_path'])\n",
    "df_list = []\n",
    "\n",
    "for pokemon_name in pokemon_names:\n",
    "    pokemon_imgs = os.listdir(os.path.join(f\"{pokemon_dataset_dir}/{pokemon_name}\"))\n",
    "    pokemon = find_pokemon(pokemon_name, pokemon_json)\n",
    "    print(pokemon_name)\n",
    "    print(pokemon)\n",
    "    pokemon_id = pokemon[\"pokemon_id\"]\n",
    "    pokemon_type = pokemon[\"type\"]\n",
    "    pokemon_name = pokemon[\"name\"]\n",
    "\n",
    "    for pokemon_img in pokemon_imgs:\n",
    "        if len(pokemon_type) > 1:\n",
    "            df_list.append({\n",
    "                \"name\": pokemon_name,\n",
    "                \"pokemon_id\": pokemon_id,\n",
    "                \"type1\": pokemon_type[0],\n",
    "                \"type2\": pokemon_type[1],\n",
    "                \"image_path\": f\"{pokemon_dataset_dir}/{pokemon_name}/{pokemon_img}\"\n",
    "            })\n",
    "        else:\n",
    "            df_list.append({\n",
    "                \"name\": pokemon_name,\n",
    "                \"pokemon_id\": pokemon_id,\n",
    "                \"type1\": pokemon_type[0],\n",
    "                \"type2\": float('nan'),  # You can use np.NaN if you prefer\n",
    "                \"image_path\": f\"{pokemon_dataset_dir}/{pokemon_name}/{pokemon_img}\"\n",
    "            })\n",
    "\n",
    "\n"
   ],
   "metadata": {
    "collapsed": false,
    "ExecuteTime": {
     "end_time": "2024-03-01T14:12:31.412847Z",
     "start_time": "2024-03-01T14:12:27.586045Z"
    }
   },
   "id": "73b1f56ac53b06d4",
   "execution_count": 5
  },
  {
   "cell_type": "code",
   "outputs": [
    {
     "name": "stdout",
     "output_type": "stream",
     "text": [
      "{'name': 'Abra', 'pokemon_id': 63, 'type1': 'Psychic', 'type2': nan, 'image_path': '../dataset/pokemon_dataset/Abra/05e7ae416d91489dbf71fbe333aff4b8.jpg'}\n"
     ]
    }
   ],
   "source": [
    "print(df_list[1])\n",
    "pokemon_df = pd.DataFrame(df_list)\n"
   ],
   "metadata": {
    "collapsed": false,
    "ExecuteTime": {
     "end_time": "2024-03-01T14:12:31.432009Z",
     "start_time": "2024-03-01T14:12:31.413880Z"
    }
   },
   "id": "5ed77d9119cee67d",
   "execution_count": 6
  },
  {
   "cell_type": "code",
   "outputs": [],
   "source": [
    "pokemon_df.to_csv(f\"../csv/pokemon.csv\")"
   ],
   "metadata": {
    "collapsed": false,
    "ExecuteTime": {
     "end_time": "2024-03-01T11:30:56.477103Z",
     "start_time": "2024-03-01T11:30:56.442192Z"
    }
   },
   "id": "72bf95d6f173b445",
   "execution_count": 83
  },
  {
   "cell_type": "code",
   "outputs": [],
   "source": [
    "def find_pokemon_type(pokemon_name:str,pokemon_df:pd.DataFrame):\n",
    "    pokemon=pokemon_df[pokemon_df[\"name\"] == pokemon_name].head(1)\n",
    "    pokemon_type=[]\n",
    "    if not pd.isna(pokemon[\"type2\"].iloc[0]):\n",
    "        pokemon_type.append(pokemon[\"type2\"].iloc[0])\n",
    "    pokemon_type.append(pokemon[\"type1\"].iloc[0])\n",
    "\n",
    "    return pokemon_type\n",
    "    "
   ],
   "metadata": {
    "collapsed": false,
    "ExecuteTime": {
     "end_time": "2024-03-01T15:16:02.246432Z",
     "start_time": "2024-03-01T15:16:02.241663Z"
    }
   },
   "id": "2608626d77a0ab67",
   "execution_count": 45
  },
  {
   "cell_type": "code",
   "outputs": [],
   "source": [],
   "metadata": {
    "collapsed": false
   },
   "id": "b8a8cf65f923024e"
  },
  {
   "cell_type": "code",
   "outputs": [
    {
     "data": {
      "text/plain": "           name  pokemon_id     type1  type2  \\\n5102  Magnemite          81  Electric  Steel   \n5103  Magnemite          81  Electric  Steel   \n5104  Magnemite          81  Electric  Steel   \n5105  Magnemite          81  Electric  Steel   \n5106  Magnemite          81  Electric  Steel   \n...         ...         ...       ...    ...   \n5216   Magneton          82  Electric  Steel   \n5217   Magneton          82  Electric  Steel   \n5218   Magneton          82  Electric  Steel   \n5219   Magneton          82  Electric  Steel   \n5220   Magneton          82  Electric  Steel   \n\n                                             image_path  \n5102  ../dataset/pokemon_dataset/Magnemite/0473cd575...  \n5103  ../dataset/pokemon_dataset/Magnemite/056b5a9fc...  \n5104  ../dataset/pokemon_dataset/Magnemite/0feab679a...  \n5105  ../dataset/pokemon_dataset/Magnemite/15c606012...  \n5106  ../dataset/pokemon_dataset/Magnemite/1b7260b46...  \n...                                                 ...  \n5216  ../dataset/pokemon_dataset/Magneton/f78a90c05c...  \n5217  ../dataset/pokemon_dataset/Magneton/f850a59a21...  \n5218  ../dataset/pokemon_dataset/Magneton/f8689110e7...  \n5219  ../dataset/pokemon_dataset/Magneton/f972d520e6...  \n5220  ../dataset/pokemon_dataset/Magneton/ff2c12e894...  \n\n[119 rows x 5 columns]",
      "text/html": "<div>\n<style scoped>\n    .dataframe tbody tr th:only-of-type {\n        vertical-align: middle;\n    }\n\n    .dataframe tbody tr th {\n        vertical-align: top;\n    }\n\n    .dataframe thead th {\n        text-align: right;\n    }\n</style>\n<table border=\"1\" class=\"dataframe\">\n  <thead>\n    <tr style=\"text-align: right;\">\n      <th></th>\n      <th>name</th>\n      <th>pokemon_id</th>\n      <th>type1</th>\n      <th>type2</th>\n      <th>image_path</th>\n    </tr>\n  </thead>\n  <tbody>\n    <tr>\n      <th>5102</th>\n      <td>Magnemite</td>\n      <td>81</td>\n      <td>Electric</td>\n      <td>Steel</td>\n      <td>../dataset/pokemon_dataset/Magnemite/0473cd575...</td>\n    </tr>\n    <tr>\n      <th>5103</th>\n      <td>Magnemite</td>\n      <td>81</td>\n      <td>Electric</td>\n      <td>Steel</td>\n      <td>../dataset/pokemon_dataset/Magnemite/056b5a9fc...</td>\n    </tr>\n    <tr>\n      <th>5104</th>\n      <td>Magnemite</td>\n      <td>81</td>\n      <td>Electric</td>\n      <td>Steel</td>\n      <td>../dataset/pokemon_dataset/Magnemite/0feab679a...</td>\n    </tr>\n    <tr>\n      <th>5105</th>\n      <td>Magnemite</td>\n      <td>81</td>\n      <td>Electric</td>\n      <td>Steel</td>\n      <td>../dataset/pokemon_dataset/Magnemite/15c606012...</td>\n    </tr>\n    <tr>\n      <th>5106</th>\n      <td>Magnemite</td>\n      <td>81</td>\n      <td>Electric</td>\n      <td>Steel</td>\n      <td>../dataset/pokemon_dataset/Magnemite/1b7260b46...</td>\n    </tr>\n    <tr>\n      <th>...</th>\n      <td>...</td>\n      <td>...</td>\n      <td>...</td>\n      <td>...</td>\n      <td>...</td>\n    </tr>\n    <tr>\n      <th>5216</th>\n      <td>Magneton</td>\n      <td>82</td>\n      <td>Electric</td>\n      <td>Steel</td>\n      <td>../dataset/pokemon_dataset/Magneton/f78a90c05c...</td>\n    </tr>\n    <tr>\n      <th>5217</th>\n      <td>Magneton</td>\n      <td>82</td>\n      <td>Electric</td>\n      <td>Steel</td>\n      <td>../dataset/pokemon_dataset/Magneton/f850a59a21...</td>\n    </tr>\n    <tr>\n      <th>5218</th>\n      <td>Magneton</td>\n      <td>82</td>\n      <td>Electric</td>\n      <td>Steel</td>\n      <td>../dataset/pokemon_dataset/Magneton/f8689110e7...</td>\n    </tr>\n    <tr>\n      <th>5219</th>\n      <td>Magneton</td>\n      <td>82</td>\n      <td>Electric</td>\n      <td>Steel</td>\n      <td>../dataset/pokemon_dataset/Magneton/f972d520e6...</td>\n    </tr>\n    <tr>\n      <th>5220</th>\n      <td>Magneton</td>\n      <td>82</td>\n      <td>Electric</td>\n      <td>Steel</td>\n      <td>../dataset/pokemon_dataset/Magneton/ff2c12e894...</td>\n    </tr>\n  </tbody>\n</table>\n<p>119 rows × 5 columns</p>\n</div>"
     },
     "execution_count": 55,
     "metadata": {},
     "output_type": "execute_result"
    }
   ],
   "source": [
    "pokemon_df[(pokemon_df[\"type1\"] == \"Steel\") | (pokemon_df[\"type2\"] == \"Steel\")]\n"
   ],
   "metadata": {
    "collapsed": false,
    "ExecuteTime": {
     "end_time": "2024-03-01T15:27:11.549473Z",
     "start_time": "2024-03-01T15:27:11.538610Z"
    }
   },
   "id": "7eeb6855c3541dc0",
   "execution_count": 55
  },
  {
   "cell_type": "code",
   "outputs": [],
   "source": [
    "if not os.path.exists(new_dataset_dir):\n",
    "    os.makedirs(new_dataset_dir)\n",
    "\n",
    "pokemon_names = os.listdir(pokemon_dataset_dir)\n",
    "\n",
    "for pokemon_name in pokemon_names:\n",
    "    pokemon_dir = os.path.join(pokemon_dataset_dir, pokemon_name)\n",
    "\n",
    "    pokemon_type = find_pokemon_type(pokemon_name, pokemon_df)\n",
    "    for type_name in pokemon_type:\n",
    "        type_dir = os.path.join(new_dataset_dir, type_name)\n",
    "        if not os.path.exists(type_dir):\n",
    "            os.makedirs(type_dir)\n",
    "        destination_dir = os.path.join(type_dir, pokemon_name)\n",
    "        shutil.copytree(pokemon_dir, destination_dir)"
   ],
   "metadata": {
    "collapsed": false,
    "ExecuteTime": {
     "end_time": "2024-03-01T15:25:19.624003Z",
     "start_time": "2024-03-01T15:24:21.183868Z"
    }
   },
   "id": "2f86f35f50665319",
   "execution_count": 52
  },
  {
   "cell_type": "code",
   "outputs": [],
   "source": [
    "for pokemon_name in pokemon_names:\n",
    "    pokemon_dir = os.path.join(pokemon_dataset_dir, pokemon_name)\n",
    "\n",
    "    pokemon_type = find_pokemon_type(pokemon_name, pokemon_json)  # Implement this function\n",
    "\n",
    "    for type_name in pokemon_type:\n",
    "        type_dir = os.path.join(new_dataset_dir, type_name)\n",
    "        if not os.path.exists(type_dir):\n",
    "            os.makedirs(type_dir)\n",
    "\n",
    "        destination_dir = os.path.join(type_dir, pokemon_name)\n",
    "        shutil.copytree(pokemon_dir, destination_dir)"
   ],
   "metadata": {
    "collapsed": false
   },
   "id": "df4a0c3ab2c40182"
  }
 ],
 "metadata": {
  "kernelspec": {
   "display_name": "Python 3",
   "language": "python",
   "name": "python3"
  },
  "language_info": {
   "codemirror_mode": {
    "name": "ipython",
    "version": 2
   },
   "file_extension": ".py",
   "mimetype": "text/x-python",
   "name": "python",
   "nbconvert_exporter": "python",
   "pygments_lexer": "ipython2",
   "version": "2.7.6"
  }
 },
 "nbformat": 4,
 "nbformat_minor": 5
}
