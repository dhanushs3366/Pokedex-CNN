{
  "cells": [
    {
      "cell_type": "code",
      "outputs": [],
      "source": [
        "import os\n",
        "\n",
        "import numpy as np\n",
        "import pandas as pd\n",
        "import matplotlib.pyplot as plt\n",
        "import tensorflow as tf\n",
        "from PIL import Image"
      ],
      "metadata": {
        "ExecuteTime": {
          "end_time": "2024-03-21T14:01:56.520276Z",
          "start_time": "2024-03-21T14:01:50.237941Z"
        },
        "id": "a5062e48ff4358df"
      },
      "id": "a5062e48ff4358df",
      "execution_count": 28
    },
    {
      "cell_type": "code",
      "outputs": [],
      "source": [],
      "metadata": {
        "ExecuteTime": {
          "end_time": "2024-03-21T14:02:17.763765Z",
          "start_time": "2024-03-21T14:02:17.750411Z"
        },
        "id": "dce751a875eeec4"
      },
      "id": "dce751a875eeec4",
      "execution_count": 28
    },
    {
      "cell_type": "code",
      "source": [
        "from google.colab import drive\n",
        "drive.mount('/content/drive')"
      ],
      "metadata": {
        "colab": {
          "base_uri": "https://localhost:8080/"
        },
        "id": "iXQ_87NnZwfO",
        "outputId": "6ded2375-255a-45c2-cf3f-122f1d88fc98"
      },
      "id": "iXQ_87NnZwfO",
      "execution_count": 29,
      "outputs": [
        {
          "output_type": "stream",
          "name": "stdout",
          "text": [
            "Drive already mounted at /content/drive; to attempt to forcibly remount, call drive.mount(\"/content/drive\", force_remount=True).\n"
          ]
        }
      ]
    },
    {
      "cell_type": "code",
      "outputs": [],
      "source": [
        "test_dir=\"/content/drive/MyDrive/Pokemon/datasets/dataset-v4/test\"\n",
        "train_dir=\"/content/drive/MyDrive/Pokemon/datasets/dataset-v4/train\"\n",
        "valid_dir=\"/content/drive/MyDrive/Pokemon/datasets/dataset-v4/valid\"\n",
        "test_csv=\"/content/drive/MyDrive/Pokemon/datasets/dataset-v4/test/_annotations.csv\"\n",
        "train_csv=\"/content/drive/MyDrive/Pokemon/datasets/dataset-v4/train/_annotations.csv\"\n",
        "valid_csv=\"/content/drive/MyDrive/Pokemon/datasets/dataset-v4/_annotations.csv\"\n",
        "dataset_dirs=[test_dir,train_dir,valid_dir]\n",
        "csv_dirs=[test_csv,train_csv,valid_csv]\n",
        "csv_filename=\"_annotations.csv\"\n",
        "\n",
        "ref_csv=\"../csv/pokemon-v3.csv\"\n",
        "ref_csv=\"/content/drive/MyDrive/Pokemon/FirstGenPokemon.csv\"\n",
        "\n",
        "neglected_pokemons=[\"MrMime\"]"
      ],
      "metadata": {
        "ExecuteTime": {
          "end_time": "2024-03-21T14:02:18.259659Z",
          "start_time": "2024-03-21T14:02:18.240224Z"
        },
        "id": "6950e9ad1a6d373f"
      },
      "id": "6950e9ad1a6d373f",
      "execution_count": 30
    },
    {
      "cell_type": "code",
      "outputs": [],
      "source": [
        "\n",
        "input_shape=(256,256,3)\n",
        "batch_size=4\n",
        "repeat_factor=4\n"
      ],
      "metadata": {
        "ExecuteTime": {
          "end_time": "2024-03-21T14:02:18.927831Z",
          "start_time": "2024-03-21T14:02:18.913270Z"
        },
        "id": "be58caba88b4dc8b"
      },
      "id": "be58caba88b4dc8b",
      "execution_count": 31
    },
    {
      "cell_type": "code",
      "outputs": [],
      "source": [],
      "metadata": {
        "ExecuteTime": {
          "end_time": "2024-03-21T14:02:19.502250Z",
          "start_time": "2024-03-21T14:02:19.487358Z"
        },
        "id": "130dc09f62ece134"
      },
      "id": "130dc09f62ece134",
      "execution_count": 31
    },
    {
      "cell_type": "code",
      "outputs": [],
      "source": [
        "AUTOTUNE=tf.data.experimental.AUTOTUNE\n",
        "class PokemonType(tf.data.Dataset):\n",
        "    @staticmethod\n",
        "    def find_pokemon_type(pokemon_filename,pokemon_csv,pokemon_ref_csv):\n",
        "        pokemon_df = pd.read_csv(pokemon_csv)\n",
        "        ref_df = pd.read_csv(pokemon_ref_csv)\n",
        "        pokemon=pokemon_df[pokemon_df['filename']==pokemon_filename]\n",
        "        if pokemon.empty: return None\n",
        "        pokemon_name=pokemon.iloc[0][\"class\"]\n",
        "        if pokemon_name in neglected_pokemons:\n",
        "            return None\n",
        "        pokemon=ref_df[ref_df['Name']==pokemon_name]\n",
        "        type1=pokemon.iloc[0][\"Type1\"]\n",
        "        type2=None\n",
        "        if not pokemon.iloc[0][\"Type2\"]=='None':\n",
        "            type2=pokemon.iloc[0][\"Type2\"]\n",
        "\n",
        "        return type1,type2\n",
        "\n",
        "\n",
        "\n",
        "    @staticmethod\n",
        "    def one_hot_encode(pokemon_labels,all_labels):\n",
        "        label_map={pokemon_type:one_hot_index for one_hot_index,pokemon_type in enumerate(all_labels)} #enum(all_labels)->(0,type1),(1,type2),...\n",
        "        one_hot_labels=np.zeros((len(pokemon_labels),len(all_labels)))\n",
        "        for index,pokemon_type in enumerate(pokemon_labels):\n",
        "            one_hot_index=label_map[pokemon_type]\n",
        "            one_hot_labels[index,one_hot_index]=1\n",
        "        one_hot_labels=np.sum(one_hot_labels,axis=0)\n",
        "        return one_hot_labels #(1,0,1,0,0,0,....)\n",
        "\n",
        "    @staticmethod\n",
        "    def get_all_labels(pokemon_csv,ref_csv):\n",
        "        ref_df=pd.read_csv(ref_csv)\n",
        "        pokemon_df=pd.read_csv(pokemon_csv)\n",
        "        df=pd.merge(pokemon_df,ref_df,left_on=\"class\",right_on=\"Name\",how=\"inner\")\n",
        "        pokemon_names=df[\"class\"].tolist()\n",
        "        all_labels=[\"dragon\"]\n",
        "        for pokemon_name in pokemon_names:\n",
        "            pokemon=ref_df[ref_df['Name']==pokemon_name]\n",
        "            if not pokemon.empty:\n",
        "                type1=pokemon.iloc[0][\"Type1\"]\n",
        "                type2=pokemon.iloc[0][\"Type2\"]\n",
        "                all_labels.append(type1)\n",
        "                if not type2==\"None\":\n",
        "                    all_labels.append(type2)\n",
        "\n",
        "        all_labels=list(set(all_labels)-{np.NaN})\n",
        "        return all_labels\n",
        "    @staticmethod\n",
        "    def super_generator(dataset_dirs,ref_csv,input_shape=(256,256,3)):\n",
        "        def generator():\n",
        "            all_labels=PokemonType.get_all_labels(f\"{dataset_dirs[0]}/{csv_filename}\",ref_csv)\n",
        "            for dataset_dir in dataset_dirs:\n",
        "                pokemon_imgs=os.listdir(dataset_dir)\n",
        "                for pokemon_img in pokemon_imgs:\n",
        "                    if not pokemon_img.lower().endswith((\".jpg\",\".png\",\".jpeg\")):\n",
        "                        continue\n",
        "                    pokemon=Image.open(os.path.join(dataset_dir,pokemon_img)).resize((input_shape[0],input_shape[1]))\n",
        "                    pokemon_tensor=tf.convert_to_tensor(pokemon)\n",
        "                    pokemon_tensor=tf.cast(pokemon_tensor,dtype=tf.float32)\n",
        "                    pokemon_tensor=pokemon_tensor/255.0\n",
        "                    pokemon_types=PokemonType.find_pokemon_type(pokemon_img,f\"{dataset_dir}/{csv_filename}\",ref_csv)\n",
        "                    if pokemon_types is None:\n",
        "                        continue\n",
        "                    pokemon_labels=[pokemon_types[0]]\n",
        "                    if not pokemon_types[-1] is None:\n",
        "                        pokemon_labels.append(pokemon_types[-1])\n",
        "                    pokemon_labels=PokemonType.one_hot_encode(pokemon_labels,all_labels)\n",
        "\n",
        "                    yield pokemon_tensor,pokemon_labels\n",
        "        return generator\n",
        "\n",
        "    @staticmethod\n",
        "    def __new__(cls,dataset_dirs,ref_csv):\n",
        "        return tf.data.Dataset.from_generator(\n",
        "            cls.super_generator(dataset_dirs,ref_csv,input_shape),\n",
        "            output_signature=(\n",
        "                tf.TensorSpec(shape=input_shape,dtype=tf.float32),\n",
        "                tf.TensorSpec(shape=(15,),dtype=tf.float32),\n",
        "            )\n",
        "        ).prefetch(AUTOTUNE)\n",
        "\n",
        "\n"
      ],
      "metadata": {
        "ExecuteTime": {
          "end_time": "2024-03-21T14:02:20.047413Z",
          "start_time": "2024-03-21T14:02:20.015315Z"
        },
        "id": "b6e8b78b717ca913"
      },
      "id": "b6e8b78b717ca913",
      "execution_count": 49
    },
    {
      "cell_type": "code",
      "outputs": [],
      "source": [
        "class DatasetSize(tf.data.Dataset):\n",
        "    @staticmethod\n",
        "    def super_generator(dataset_dirs):\n",
        "        def generator():\n",
        "            for dataset_dir in dataset_dirs:\n",
        "                pokemon_imgs=os.listdir(dataset_dir)\n",
        "                for pokemon_img in pokemon_imgs:\n",
        "                    if not pokemon_img.lower().endswith((\".png\",\".jpg\",\".jpeg\")):\n",
        "                        continue\n",
        "                    pokemon_df=pd.read_csv(f\"{dataset_dir}/{csv_filename}\")\n",
        "                    pokemon=pokemon_df[pokemon_df[\"filename\"]==pokemon_img]\n",
        "                    if pokemon.empty: continue\n",
        "                    if pokemon.iloc[0][\"class\"] in neglected_pokemons:\n",
        "                        continue\n",
        "                    yield tf.constant([1],tf.float32),tf.constant([1],tf.float32)\n",
        "\n",
        "        return generator\n",
        "    @staticmethod\n",
        "    def __new__(cls,dataset_dirs):\n",
        "        return tf.data.Dataset.from_generator(\n",
        "            cls.super_generator(dataset_dirs),\n",
        "            output_signature=(\n",
        "                tf.TensorSpec(shape=(None,),dtype=tf.float32),\n",
        "                tf.TensorSpec(shape=(None,),dtype=tf.float32)\n",
        "\n",
        "            )\n",
        "        )"
      ],
      "metadata": {
        "ExecuteTime": {
          "end_time": "2024-03-21T14:02:20.435230Z",
          "start_time": "2024-03-21T14:02:20.418254Z"
        },
        "id": "37f4740252f27832"
      },
      "id": "37f4740252f27832",
      "execution_count": 51
    },
    {
      "cell_type": "code",
      "outputs": [],
      "source": [
        "dataset=PokemonType(dataset_dirs,ref_csv)\n",
        "dummy_dataset=DatasetSize(dataset_dirs)\n",
        "\n",
        "dataset=dataset.batch(batch_size,num_parallel_calls=AUTOTUNE).repeat(repeat_factor)\n",
        "dummy_dataset=dummy_dataset.batch(batch_size,num_parallel_calls=AUTOTUNE).repeat(repeat_factor)"
      ],
      "metadata": {
        "ExecuteTime": {
          "end_time": "2024-03-21T14:02:21.356476Z",
          "start_time": "2024-03-21T14:02:21.204310Z"
        },
        "id": "791c9dc8223f42d8"
      },
      "id": "791c9dc8223f42d8",
      "execution_count": 52
    },
    {
      "cell_type": "code",
      "outputs": [],
      "source": [
        "dataset_size=0\n",
        "for _ in dummy_dataset.as_numpy_iterator():\n",
        "    dataset_size+=1\n"
      ],
      "metadata": {
        "ExecuteTime": {
          "end_time": "2024-03-21T14:02:32.934309Z",
          "start_time": "2024-03-21T14:02:21.599243Z"
        },
        "id": "9eb4e4ed4e808c37"
      },
      "id": "9eb4e4ed4e808c37",
      "execution_count": 53
    },
    {
      "cell_type": "code",
      "outputs": [],
      "source": [
        "# o=0\n",
        "# for _ in dataset.as_numpy_iterator():\n",
        "#    o+=1"
      ],
      "metadata": {
        "ExecuteTime": {
          "end_time": "2024-03-21T14:02:34.693115Z",
          "start_time": "2024-03-21T14:02:34.688876Z"
        },
        "id": "84160d99a591e00a"
      },
      "id": "84160d99a591e00a",
      "execution_count": 54
    },
    {
      "cell_type": "code",
      "outputs": [],
      "source": [
        "dataset=dataset.shuffle(buffer_size=dataset_size)"
      ],
      "metadata": {
        "ExecuteTime": {
          "end_time": "2024-03-21T14:02:35.208495Z",
          "start_time": "2024-03-21T14:02:35.184197Z"
        },
        "id": "8e82a3bbd12ee92e"
      },
      "id": "8e82a3bbd12ee92e",
      "execution_count": 55
    },
    {
      "cell_type": "code",
      "outputs": [
        {
          "output_type": "stream",
          "name": "stdout",
          "text": [
            "The dataset size: 908\n"
          ]
        },
        {
          "output_type": "execute_result",
          "data": {
            "text/plain": [
              "227.0"
            ]
          },
          "metadata": {},
          "execution_count": 56
        }
      ],
      "source": [
        "print(f\"The dataset size: {dataset_size}\")\n",
        "steps_per_epoch=tf.math.ceil(dataset_size/batch_size).numpy()\n",
        "steps_per_epoch"
      ],
      "metadata": {
        "ExecuteTime": {
          "end_time": "2024-03-21T14:02:35.817607Z",
          "start_time": "2024-03-21T14:02:35.793163Z"
        },
        "colab": {
          "base_uri": "https://localhost:8080/"
        },
        "id": "3e8df102d8c9feab",
        "outputId": "9f281ea1-70a3-4b53-8180-e9daaa18ca9e"
      },
      "id": "3e8df102d8c9feab",
      "execution_count": 56
    },
    {
      "cell_type": "code",
      "outputs": [],
      "source": [
        "def create_type_model(input_shape,output_shape):\n",
        "\n",
        "    augmented_model=tf.keras.Sequential([\n",
        "        tf.keras.layers.RandomFlip(\"horizontal_and_vertical\"),\n",
        "        tf.keras.layers.RandomRotation(0.20),\n",
        "        tf.keras.layers.Rescaling(1./255),\n",
        "    ])\n",
        "\n",
        "    resnet_model=tf.keras.applications.ResNet152(include_top=False,weights='imagenet',pooling='avg')\n",
        "    for layer in resnet_model.layers:\n",
        "        layer.trainable=True\n",
        "\n",
        "    inputs=tf.keras.layers.Input(input_shape)\n",
        "    augment_1=augmented_model(inputs)\n",
        "    resnet_layers=resnet_model(augment_1)\n",
        "    flatten=tf.keras.layers.Flatten()(resnet_layers)\n",
        "    dense_1=tf.keras.layers.Dense(512, activation='relu')(flatten)\n",
        "    outputs=tf.keras.layers.Dense(output_shape, activation='sigmoid')(dense_1)\n",
        "    model=tf.keras.Model(inputs=inputs, outputs=outputs)\n",
        "    return model\n",
        "\n",
        "\n"
      ],
      "metadata": {
        "ExecuteTime": {
          "end_time": "2024-03-21T14:02:38.358807Z",
          "start_time": "2024-03-21T14:02:38.350521Z"
        },
        "id": "ce9dd89c92d0e614"
      },
      "id": "ce9dd89c92d0e614",
      "execution_count": 57
    },
    {
      "cell_type": "code",
      "outputs": [],
      "source": [
        "class myCallback(tf.keras.callbacks.Callback):\n",
        "    def on_epoch_end(self, epoch, logs={}):\n",
        "        if logs.get('accuracy') > 0.99:\n",
        "            print(f'Epoch {epoch+1} completed. Training accuracy {logs.get(\"accuracy\")} reached. Stopping the training')\n",
        "            self.model.stop_training =True"
      ],
      "metadata": {
        "ExecuteTime": {
          "end_time": "2024-03-21T14:02:39.153925Z",
          "start_time": "2024-03-21T14:02:39.045473Z"
        },
        "id": "b7a5fbdc431dcb63"
      },
      "id": "b7a5fbdc431dcb63",
      "execution_count": 58
    },
    {
      "cell_type": "code",
      "outputs": [
        {
          "output_type": "stream",
          "name": "stdout",
          "text": [
            "['poison', 'ghost', 'ice', 'bug', 'dragon', 'ground', 'flying', 'fire', 'electric', 'water', 'rock', 'psychic', 'normal', 'grass', 'fighting']\n"
          ]
        }
      ],
      "source": [
        "all_labels=PokemonType.get_all_labels(f\"{dataset_dirs[0]}/{csv_filename}\",ref_csv)\n",
        "model=create_type_model(input_shape,len(all_labels))\n",
        "print(all_labels)"
      ],
      "metadata": {
        "ExecuteTime": {
          "end_time": "2024-03-21T14:02:45.544504Z",
          "start_time": "2024-03-21T14:02:39.585907Z"
        },
        "colab": {
          "base_uri": "https://localhost:8080/"
        },
        "id": "5010628d3daef360",
        "outputId": "dff91604-8b44-4258-c301-ad2128918f5c"
      },
      "id": "5010628d3daef360",
      "execution_count": 59
    },
    {
      "cell_type": "code",
      "outputs": [
        {
          "output_type": "error",
          "ename": "NameError",
          "evalue": "name 'myCallback' is not defined",
          "traceback": [
            "\u001b[0;31m---------------------------------------------------------------------------\u001b[0m",
            "\u001b[0;31mNameError\u001b[0m                                 Traceback (most recent call last)",
            "\u001b[0;32m<ipython-input-1-cbee9be209ce>\u001b[0m in \u001b[0;36m<cell line: 1>\u001b[0;34m()\u001b[0m\n\u001b[0;32m----> 1\u001b[0;31m \u001b[0mmy_callback\u001b[0m\u001b[0;34m=\u001b[0m\u001b[0mmyCallback\u001b[0m\u001b[0;34m(\u001b[0m\u001b[0;34m)\u001b[0m\u001b[0;34m\u001b[0m\u001b[0;34m\u001b[0m\u001b[0m\n\u001b[0m\u001b[1;32m      2\u001b[0m \u001b[0mmodel\u001b[0m\u001b[0;34m.\u001b[0m\u001b[0mcompile\u001b[0m\u001b[0;34m(\u001b[0m\u001b[0moptimizer\u001b[0m\u001b[0;34m=\u001b[0m\u001b[0;34m'adam'\u001b[0m\u001b[0;34m,\u001b[0m\u001b[0mloss\u001b[0m\u001b[0;34m=\u001b[0m\u001b[0mtf\u001b[0m\u001b[0;34m.\u001b[0m\u001b[0mkeras\u001b[0m\u001b[0;34m.\u001b[0m\u001b[0mlosses\u001b[0m\u001b[0;34m.\u001b[0m\u001b[0mBinaryCrossentropy\u001b[0m\u001b[0;34m(\u001b[0m\u001b[0;34m)\u001b[0m\u001b[0;34m,\u001b[0m\u001b[0mmetrics\u001b[0m\u001b[0;34m=\u001b[0m\u001b[0;34m[\u001b[0m\u001b[0;34m\"accuracy\"\u001b[0m\u001b[0;34m]\u001b[0m\u001b[0;34m)\u001b[0m\u001b[0;34m\u001b[0m\u001b[0;34m\u001b[0m\u001b[0m\n",
            "\u001b[0;31mNameError\u001b[0m: name 'myCallback' is not defined"
          ]
        }
      ],
      "source": [
        "my_callback=myCallback()\n",
        "model.compile(optimizer='adam',loss=tf.keras.losses.BinaryCrossentropy(),metrics=[\"accuracy\"])"
      ],
      "metadata": {
        "ExecuteTime": {
          "end_time": "2024-03-21T14:03:00.938115Z",
          "start_time": "2024-03-21T14:03:00.914069Z"
        },
        "id": "433fd4b47f61bc48",
        "colab": {
          "base_uri": "https://localhost:8080/",
          "height": 159
        },
        "outputId": "07473514-23cf-4ec6-b1a1-a4ac02c5ffc5"
      },
      "id": "433fd4b47f61bc48",
      "execution_count": 1
    },
    {
      "cell_type": "code",
      "outputs": [
        {
          "output_type": "stream",
          "name": "stdout",
          "text": [
            "Epoch 1/100\n",
            "227/227 [==============================] - 296s 189ms/step - loss: 30.8308 - accuracy: 0.1028\n",
            "Epoch 2/100\n",
            "227/227 [==============================] - 42s 183ms/step - loss: 255.8333 - accuracy: 0.0972\n",
            "Epoch 3/100\n",
            "227/227 [==============================] - 42s 186ms/step - loss: 986.3835 - accuracy: 0.0958\n",
            "Epoch 4/100\n",
            "227/227 [==============================] - 42s 185ms/step - loss: 1964.4147 - accuracy: 0.1098\n",
            "Epoch 5/100\n"
          ]
        },
        {
          "output_type": "stream",
          "name": "stderr",
          "text": [
            "WARNING:tensorflow:Your input ran out of data; interrupting training. Make sure that your dataset or generator can generate at least `steps_per_epoch * epochs` batches (in this case, 22700.0 batches). You may need to use the repeat() function when building your dataset.\n"
          ]
        },
        {
          "output_type": "stream",
          "name": "stdout",
          "text": [
            "\r227/227 [==============================] - 1s 2ms/step - loss: 0.0000e+00 - accuracy: 0.0000e+00\n"
          ]
        }
      ],
      "source": [
        "'''Training the model'''\n",
        "history=model.fit(dataset,epochs=100,callbacks=[my_callback],batch_size=batch_size,steps_per_epoch=steps_per_epoch)"
      ],
      "metadata": {
        "is_executing": true,
        "ExecuteTime": {
          "start_time": "2024-03-21T14:03:01.596382Z"
        },
        "colab": {
          "base_uri": "https://localhost:8080/"
        },
        "id": "3bf40a2086670067",
        "outputId": "04b41412-83f1-4b44-9201-f9d4c3c41cd2"
      },
      "id": "3bf40a2086670067",
      "execution_count": 61
    },
    {
      "cell_type": "code",
      "outputs": [],
      "source": [
        "class Plot():\n",
        "    #use it to plot layers and writing in a class to keep it organised\n",
        "    pass\n"
      ],
      "metadata": {
        "ExecuteTime": {
          "end_time": "2024-03-21T08:07:45.846072Z",
          "start_time": "2024-03-21T08:07:45.833071Z"
        },
        "id": "b16a09cbcb607567"
      },
      "id": "b16a09cbcb607567",
      "execution_count": null
    },
    {
      "cell_type": "code",
      "source": [
        "\n",
        "    def find_pokemon_type(pokemon_filename,pokemon_csv,pokemon_ref_csv):\n",
        "        pokemon_df = pd.read_csv(pokemon_csv)\n",
        "        ref_df = pd.read_csv(pokemon_ref_csv)\n",
        "        pokemon=pokemon_df[pokemon_df['filename']==pokemon_filename]\n",
        "        if pokemon.empty: return None\n",
        "        pokemon_name=pokemon.iloc[0][\"class\"]\n",
        "        if pokemon_name in neglected_pokemons:\n",
        "            return None\n",
        "        pokemon=ref_df[ref_df['Name']==pokemon_name]\n",
        "        type1=pokemon.iloc[0][\"Type1\"]\n",
        "        type2=None\n",
        "        if not pokemon.iloc[0][\"Type2\"]=='None':\n",
        "            type2=pokemon.iloc[0][\"Type2\"]\n",
        "\n",
        "        return type1,type2\n",
        "\n",
        "\n",
        "    def one_hot_encode(pokemon_labels,all_labels):\n",
        "        label_map={pokemon_type:one_hot_index for one_hot_index,pokemon_type in enumerate(all_labels)} #enum(all_labels)->(0,type1),(1,type2),...\n",
        "        one_hot_labels=np.zeros((len(pokemon_labels),len(all_labels)))\n",
        "        for index,pokemon_type in enumerate(pokemon_labels):\n",
        "            one_hot_index=label_map[pokemon_type]\n",
        "            one_hot_labels[index,one_hot_index]=1\n",
        "        one_hot_labels=np.sum(one_hot_labels,axis=0)\n",
        "        return one_hot_labels #(1,0,1,0,0,0,....)\n",
        "\n",
        "    def get_all_labels(pokemon_csv,ref_csv):\n",
        "        ref_df=pd.read_csv(ref_csv)\n",
        "        pokemon_df=pd.read_csv(pokemon_csv)\n",
        "        df=pd.merge(pokemon_df,ref_df,left_on=\"class\",right_on=\"Name\",how=\"inner\")\n",
        "        pokemon_names=df[\"class\"].tolist()\n",
        "        all_labels=[\"dragon\"]\n",
        "        for pokemon_name in pokemon_names:\n",
        "            pokemon=ref_df[ref_df['Name']==pokemon_name]\n",
        "            if not pokemon.empty:\n",
        "                type1=pokemon.iloc[0][\"Type1\"]\n",
        "                type2=pokemon.iloc[0][\"Type2\"]\n",
        "                all_labels.append(type1)\n",
        "                if not type2==\"None\":\n",
        "                    all_labels.append(type2)\n",
        "\n",
        "        all_labels=list(set(all_labels)-{np.NaN})\n",
        "        return all_labels\n",
        ""
      ],
      "metadata": {
        "id": "i2u_6rfvnFAQ"
      },
      "id": "i2u_6rfvnFAQ",
      "execution_count": 43,
      "outputs": []
    },
    {
      "cell_type": "code",
      "source": [],
      "metadata": {
        "id": "rvPrtx8lnJaI"
      },
      "id": "rvPrtx8lnJaI",
      "execution_count": null,
      "outputs": []
    },
    {
      "cell_type": "code",
      "outputs": [],
      "source": [
        "def find_pokemon_type(pokemon_filename,pokemon_csv,pokemon_ref_csv):\n",
        "    pokemon_df = pd.read_csv(pokemon_csv)\n",
        "    ref_df = pd.read_csv(pokemon_ref_csv)\n",
        "    pokemon=pokemon_df[pokemon_df['filename']==pokemon_filename]\n",
        "    if pokemon.empty: return None\n",
        "    pokemon_name=pokemon.iloc[0][\"class\"]\n",
        "    if pokemon_name in neglected_pokemons:\n",
        "        return None\n",
        "    pokemon=ref_df[ref_df['Name']==pokemon_name]\n",
        "    type1=pokemon.iloc[0][\"Type1\"]\n",
        "    type2=None\n",
        "    if not pokemon.iloc[0][\"Type2\"]=='None':\n",
        "        type2=pokemon.iloc[0][\"Type2\"]\n",
        "\n",
        "    return type1,type2\n",
        "\n",
        "\n",
        "def one_hot_encode(pokemon_labels,all_labels):\n",
        "    label_map={pokemon_type:one_hot_index for one_hot_index,pokemon_type in enumerate(all_labels)} #enum(all_labels)->(0,type1),(1,type2),...\n",
        "    one_hot_labels=np.zeros((len(pokemon_labels),len(all_labels)))\n",
        "    print(pokemon_labels)\n",
        "    for index,pokemon_type in enumerate(pokemon_labels):\n",
        "        one_hot_index=label_map[pokemon_type]\n",
        "        one_hot_labels[index,one_hot_index]=1\n",
        "    one_hot_labels=np.sum(one_hot_labels,axis=0)\n",
        "    return one_hot_labels #(1,0,1,0,0,0)\n",
        "\n",
        "\n",
        "\n",
        "def get_all_labels(pokemon_csv,ref_csv):\n",
        "    ref_df=pd.read_csv(ref_csv)\n",
        "    pokemon_df=pd.read_csv(pokemon_csv)\n",
        "    df=pd.merge(pokemon_df,ref_df,left_on=\"class\",right_on=\"Name\",how=\"inner\")\n",
        "    pokemon_names=df[\"class\"].tolist()\n",
        "    all_labels=[]\n",
        "    for pokemon_name in pokemon_names:\n",
        "        pokemon=ref_df[ref_df['Name']==pokemon_name]\n",
        "        if not pokemon.empty:\n",
        "            type1=pokemon.iloc[0][\"Type1\"]\n",
        "            type2=pokemon.iloc[0][\"Type2\"]\n",
        "            all_labels.append(type1)\n",
        "            if not type2==\"None\":\n",
        "                all_labels.append(type2)\n",
        "    return all_labels\n",
        "\n"
      ],
      "metadata": {
        "ExecuteTime": {
          "end_time": "2024-03-21T08:07:46.673986Z",
          "start_time": "2024-03-21T08:07:46.652840Z"
        },
        "id": "71d06e70861d68bf"
      },
      "id": "71d06e70861d68bf",
      "execution_count": 44
    },
    {
      "cell_type": "code",
      "outputs": [
        {
          "output_type": "stream",
          "name": "stdout",
          "text": [
            "['ground']\n",
            "['fighting']\n",
            "['electric']\n",
            "['poison', 'flying']\n",
            "['bug', 'poison']\n",
            "['rock', 'water']\n",
            "['psychic']\n",
            "['water', 'ice']\n",
            "['normal', 'flying']\n",
            "['water']\n",
            "['electric']\n",
            "['ground']\n"
          ]
        },
        {
          "output_type": "error",
          "ename": "KeyboardInterrupt",
          "evalue": "",
          "traceback": [
            "\u001b[0;31m---------------------------------------------------------------------------\u001b[0m",
            "\u001b[0;31mKeyboardInterrupt\u001b[0m                         Traceback (most recent call last)",
            "\u001b[0;32m<ipython-input-48-858c5c780395>\u001b[0m in \u001b[0;36m<cell line: 2>\u001b[0;34m()\u001b[0m\n\u001b[1;32m      5\u001b[0m     \u001b[0;32mif\u001b[0m \u001b[0;32mnot\u001b[0m \u001b[0mpokemon_img\u001b[0m\u001b[0;34m.\u001b[0m\u001b[0mlower\u001b[0m\u001b[0;34m(\u001b[0m\u001b[0;34m)\u001b[0m\u001b[0;34m.\u001b[0m\u001b[0mendswith\u001b[0m\u001b[0;34m(\u001b[0m\u001b[0;34m(\u001b[0m\u001b[0;34m\".jpg\"\u001b[0m\u001b[0;34m,\u001b[0m\u001b[0;34m\".png\"\u001b[0m\u001b[0;34m,\u001b[0m\u001b[0;34m\".jpeg\"\u001b[0m\u001b[0;34m)\u001b[0m\u001b[0;34m)\u001b[0m\u001b[0;34m:\u001b[0m\u001b[0;34m\u001b[0m\u001b[0;34m\u001b[0m\u001b[0m\n\u001b[1;32m      6\u001b[0m       \u001b[0;32mcontinue\u001b[0m\u001b[0;34m\u001b[0m\u001b[0;34m\u001b[0m\u001b[0m\n\u001b[0;32m----> 7\u001b[0;31m     \u001b[0mpokemon\u001b[0m\u001b[0;34m=\u001b[0m\u001b[0mImage\u001b[0m\u001b[0;34m.\u001b[0m\u001b[0mopen\u001b[0m\u001b[0;34m(\u001b[0m\u001b[0mos\u001b[0m\u001b[0;34m.\u001b[0m\u001b[0mpath\u001b[0m\u001b[0;34m.\u001b[0m\u001b[0mjoin\u001b[0m\u001b[0;34m(\u001b[0m\u001b[0mdataset_dir\u001b[0m\u001b[0;34m,\u001b[0m\u001b[0mpokemon_img\u001b[0m\u001b[0;34m)\u001b[0m\u001b[0;34m)\u001b[0m\u001b[0;34m.\u001b[0m\u001b[0mresize\u001b[0m\u001b[0;34m(\u001b[0m\u001b[0;34m(\u001b[0m\u001b[0minput_shape\u001b[0m\u001b[0;34m[\u001b[0m\u001b[0;36m0\u001b[0m\u001b[0;34m]\u001b[0m\u001b[0;34m,\u001b[0m\u001b[0minput_shape\u001b[0m\u001b[0;34m[\u001b[0m\u001b[0;36m1\u001b[0m\u001b[0;34m]\u001b[0m\u001b[0;34m)\u001b[0m\u001b[0;34m)\u001b[0m\u001b[0;34m\u001b[0m\u001b[0;34m\u001b[0m\u001b[0m\n\u001b[0m\u001b[1;32m      8\u001b[0m     \u001b[0mpokemon_tensor\u001b[0m\u001b[0;34m=\u001b[0m\u001b[0mtf\u001b[0m\u001b[0;34m.\u001b[0m\u001b[0mconvert_to_tensor\u001b[0m\u001b[0;34m(\u001b[0m\u001b[0mpokemon\u001b[0m\u001b[0;34m)\u001b[0m\u001b[0;34m\u001b[0m\u001b[0;34m\u001b[0m\u001b[0m\n\u001b[1;32m      9\u001b[0m     \u001b[0mpokemon_tensor\u001b[0m\u001b[0;34m=\u001b[0m\u001b[0mtf\u001b[0m\u001b[0;34m.\u001b[0m\u001b[0mcast\u001b[0m\u001b[0;34m(\u001b[0m\u001b[0mpokemon_tensor\u001b[0m\u001b[0;34m,\u001b[0m\u001b[0mdtype\u001b[0m\u001b[0;34m=\u001b[0m\u001b[0mtf\u001b[0m\u001b[0;34m.\u001b[0m\u001b[0mfloat32\u001b[0m\u001b[0;34m)\u001b[0m\u001b[0;34m\u001b[0m\u001b[0;34m\u001b[0m\u001b[0m\n",
            "\u001b[0;32m/usr/local/lib/python3.10/dist-packages/PIL/Image.py\u001b[0m in \u001b[0;36mopen\u001b[0;34m(fp, mode, formats)\u001b[0m\n\u001b[1;32m   3234\u001b[0m         \u001b[0mexclusive_fp\u001b[0m \u001b[0;34m=\u001b[0m \u001b[0;32mTrue\u001b[0m\u001b[0;34m\u001b[0m\u001b[0;34m\u001b[0m\u001b[0m\n\u001b[1;32m   3235\u001b[0m \u001b[0;34m\u001b[0m\u001b[0m\n\u001b[0;32m-> 3236\u001b[0;31m     \u001b[0mprefix\u001b[0m \u001b[0;34m=\u001b[0m \u001b[0mfp\u001b[0m\u001b[0;34m.\u001b[0m\u001b[0mread\u001b[0m\u001b[0;34m(\u001b[0m\u001b[0;36m16\u001b[0m\u001b[0;34m)\u001b[0m\u001b[0;34m\u001b[0m\u001b[0;34m\u001b[0m\u001b[0m\n\u001b[0m\u001b[1;32m   3237\u001b[0m \u001b[0;34m\u001b[0m\u001b[0m\n\u001b[1;32m   3238\u001b[0m     \u001b[0mpreinit\u001b[0m\u001b[0;34m(\u001b[0m\u001b[0;34m)\u001b[0m\u001b[0;34m\u001b[0m\u001b[0;34m\u001b[0m\u001b[0m\n",
            "\u001b[0;31mKeyboardInterrupt\u001b[0m: "
          ]
        }
      ],
      "source": [
        "all_labels=PokemonType.get_all_labels(f\"{dataset_dirs[0]}/{csv_filename}\",ref_csv)\n",
        "for dataset_dir in dataset_dirs:\n",
        "  pokemon_imgs=os.listdir(dataset_dir)\n",
        "  for pokemon_img in pokemon_imgs:\n",
        "    if not pokemon_img.lower().endswith((\".jpg\",\".png\",\".jpeg\")):\n",
        "      continue\n",
        "    pokemon=Image.open(os.path.join(dataset_dir,pokemon_img)).resize((input_shape[0],input_shape[1]))\n",
        "    pokemon_tensor=tf.convert_to_tensor(pokemon)\n",
        "    pokemon_tensor=tf.cast(pokemon_tensor,dtype=tf.float32)\n",
        "    pokemon_tensor=pokemon_tensor/255.0\n",
        "    pokemon_types=find_pokemon_type(pokemon_img,f\"{dataset_dir}/{csv_filename}\",ref_csv)\n",
        "    if pokemon_types is None:\n",
        "      continue\n",
        "    pokemon_labels=[pokemon_types[0]]\n",
        "    if not pokemon_types[-1] is None:\n",
        "      pokemon_labels.append(pokemon_types[-1])\n",
        "    pokemon_labels=one_hot_encode(pokemon_labels,all_labels)"
      ],
      "metadata": {
        "id": "a14247889d3e5dbc",
        "colab": {
          "base_uri": "https://localhost:8080/",
          "height": 555
        },
        "outputId": "82e7da78-7bbf-41f3-9c06-41bc6f14cd50"
      },
      "id": "a14247889d3e5dbc",
      "execution_count": 48
    },
    {
      "cell_type": "code",
      "outputs": [],
      "source": [
        "all_labels=get_all_labels(f\"{dataset_dirs[0]}/{csv_filename}\",ref_csv)\n",
        "all_labels"
      ],
      "metadata": {
        "id": "6f6877108a1f187e"
      },
      "id": "6f6877108a1f187e",
      "execution_count": null
    },
    {
      "cell_type": "code",
      "outputs": [],
      "source": [],
      "metadata": {
        "id": "4d468f532ddaf528"
      },
      "id": "4d468f532ddaf528",
      "execution_count": null
    }
  ],
  "metadata": {
    "kernelspec": {
      "display_name": "Python 3",
      "name": "python3"
    },
    "language_info": {
      "codemirror_mode": {
        "name": "ipython",
        "version": 2
      },
      "file_extension": ".py",
      "mimetype": "text/x-python",
      "name": "python",
      "nbconvert_exporter": "python",
      "pygments_lexer": "ipython2",
      "version": "2.7.6"
    },
    "colab": {
      "provenance": [],
      "gpuType": "T4"
    },
    "accelerator": "GPU"
  },
  "nbformat": 4,
  "nbformat_minor": 5
}